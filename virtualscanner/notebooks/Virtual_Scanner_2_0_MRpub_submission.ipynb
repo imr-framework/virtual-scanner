{
  "nbformat": 4,
  "nbformat_minor": 0,
  "metadata": {
    "colab": {
      "name": "Virtual Scanner 2.0 - MRpub submission.ipynb",
      "provenance": [],
      "collapsed_sections": [],
      "authorship_tag": "ABX9TyNbmpt2iwUhrf6jK6f2zCKO",
      "include_colab_link": true
    },
    "kernelspec": {
      "name": "python3",
      "display_name": "Python 3"
    },
    "language_info": {
      "name": "python"
    }
  },
  "cells": [
    {
      "cell_type": "markdown",
      "metadata": {
        "id": "view-in-github",
        "colab_type": "text"
      },
      "source": [
        "<a href=\"https://colab.research.google.com/github/imr-framework/virtual-scanner/blob/master/virtualscanner/notebooks/Virtual_Scanner_2_0_MRpub_submission.ipynb\" target=\"_parent\"><img src=\"https://colab.research.google.com/assets/colab-badge.svg\" alt=\"Open In Colab\"/></a>"
      ]
    },
    {
      "cell_type": "markdown",
      "source": [
        "# Virtual Scanner 2.0 Sequence Simulation Portal\n",
        "\n",
        "Gehua Tong, April 2022\n",
        "\n",
        "*Image Acquisition and Reconstruction Group, Columbia MR Research Center, Columbia University*\n",
        "\n",
        "\n",
        "---\n",
        "\n",
        "\n",
        "\n",
        "Simulate your Pulseq sequence here! \n",
        "\n",
        "## Sequence selection\n",
        "1. Demo : Single-shot EPI sequence \n",
        "2. User-uploaded (custom): any Pulseq .seq file can be uploaded. However, we recommend resolution equal to or less than that of the phantom.\n",
        "\n",
        "## Phantom selection\n",
        "1. Default cylindrical phantom with 3 planes of contrast spheres (PD, T1, T2 planes from the top down) and customizable parameter values. See phantom image [here](https://github.com/imr-framework/virtual-scanner/blob/master/virtualscanner/coms/coms_ui/static/phantom_pics/Numerical.png). \n",
        "\n",
        "2. User-uploaded (custom) phantoms in .mat format. \n",
        "\n",
        "## Hardware map selection \n",
        "1. Ideal hardware (zero off-resonance, uniform B1 maps with zero phase)\n",
        "2. Real hardware maps (ACR 3T B0 map and 20 channel head coil B1 maps)\n",
        "3. User-uploaded (custom) maps \n"
      ],
      "metadata": {
        "id": "KeHDkE0Mu8h4"
      }
    },
    {
      "cell_type": "markdown",
      "source": [
        "# Install and import simulator and other functions"
      ],
      "metadata": {
        "id": "gzaJkzh4v0P5"
      }
    },
    {
      "cell_type": "code",
      "execution_count": null,
      "metadata": {
        "id": "0jgBEL8vu0Gj",
        "colab": {
          "base_uri": "https://localhost:8080/"
        },
        "outputId": "1feeb60a-a1df-4ce0-c7b8-d7887309131f"
      },
      "outputs": [
        {
          "output_type": "stream",
          "name": "stdout",
          "text": [
            "Collecting git+https://github.com/imr-framework/virtual-scanner.git@2c9b320165f39d07e99e7d11d0fce5ba190d14dd\n",
            "  Cloning https://github.com/imr-framework/virtual-scanner.git (to revision 2c9b320165f39d07e99e7d11d0fce5ba190d14dd) to /tmp/pip-req-build-2lqktly0\n",
            "  Running command git clone -q https://github.com/imr-framework/virtual-scanner.git /tmp/pip-req-build-2lqktly0\n",
            "  Running command git rev-parse -q --verify 'sha^2c9b320165f39d07e99e7d11d0fce5ba190d14dd'\n",
            "  Running command git fetch -q https://github.com/imr-framework/virtual-scanner.git 2c9b320165f39d07e99e7d11d0fce5ba190d14dd\n",
            "  Running command git checkout -q 2c9b320165f39d07e99e7d11d0fce5ba190d14dd\n",
            "Requirement already satisfied: absl-py==0.7.1 in /usr/local/lib/python3.7/dist-packages (from virtual-scanner==2.0.0) (0.7.1)\n",
            "Requirement already satisfied: astor==0.7.1 in /usr/local/lib/python3.7/dist-packages (from virtual-scanner==2.0.0) (0.7.1)\n",
            "Requirement already satisfied: Click==7.0 in /usr/local/lib/python3.7/dist-packages (from virtual-scanner==2.0.0) (7.0)\n",
            "Requirement already satisfied: cycler==0.10.0 in /usr/local/lib/python3.7/dist-packages (from virtual-scanner==2.0.0) (0.10.0)\n",
            "Requirement already satisfied: Flask==1.0.2 in /usr/local/lib/python3.7/dist-packages (from virtual-scanner==2.0.0) (1.0.2)\n",
            "Requirement already satisfied: gast==0.2.2 in /usr/local/lib/python3.7/dist-packages (from virtual-scanner==2.0.0) (0.2.2)\n",
            "Requirement already satisfied: grpcio==1.20.0 in /usr/local/lib/python3.7/dist-packages (from virtual-scanner==2.0.0) (1.20.0)\n",
            "Requirement already satisfied: h5py==2.9.0 in /usr/local/lib/python3.7/dist-packages (from virtual-scanner==2.0.0) (2.9.0)\n",
            "Requirement already satisfied: itsdangerous==1.1.0 in /usr/local/lib/python3.7/dist-packages (from virtual-scanner==2.0.0) (1.1.0)\n",
            "Requirement already satisfied: Jinja2==2.10.1 in /usr/local/lib/python3.7/dist-packages (from virtual-scanner==2.0.0) (2.10.1)\n",
            "Requirement already satisfied: Keras==2.2.4 in /usr/local/lib/python3.7/dist-packages (from virtual-scanner==2.0.0) (2.2.4)\n",
            "Requirement already satisfied: Keras-Applications>=1.0.7 in /usr/local/lib/python3.7/dist-packages (from virtual-scanner==2.0.0) (1.0.8)\n",
            "Requirement already satisfied: Keras-Preprocessing==1.0.9 in /usr/local/lib/python3.7/dist-packages (from virtual-scanner==2.0.0) (1.0.9)\n",
            "Requirement already satisfied: kiwisolver==1.0.1 in /usr/local/lib/python3.7/dist-packages (from virtual-scanner==2.0.0) (1.0.1)\n",
            "Requirement already satisfied: Markdown==3.1 in /usr/local/lib/python3.7/dist-packages (from virtual-scanner==2.0.0) (3.1)\n",
            "Requirement already satisfied: MarkupSafe==1.1.1 in /usr/local/lib/python3.7/dist-packages (from virtual-scanner==2.0.0) (1.1.1)\n",
            "Requirement already satisfied: matplotlib>=3.3.4 in /usr/local/lib/python3.7/dist-packages (from virtual-scanner==2.0.0) (3.5.1)\n",
            "Requirement already satisfied: mock==2.0.0 in /usr/local/lib/python3.7/dist-packages (from virtual-scanner==2.0.0) (2.0.0)\n",
            "Requirement already satisfied: nibabel==2.4.0 in /usr/local/lib/python3.7/dist-packages (from virtual-scanner==2.0.0) (2.4.0)\n",
            "Requirement already satisfied: numpy>=1.16.2 in /usr/local/lib/python3.7/dist-packages (from virtual-scanner==2.0.0) (1.21.6)\n",
            "Requirement already satisfied: opencv-python==4.0.0.21 in /usr/local/lib/python3.7/dist-packages (from virtual-scanner==2.0.0) (4.0.0.21)\n",
            "Requirement already satisfied: pbr==5.1.3 in /usr/local/lib/python3.7/dist-packages (from virtual-scanner==2.0.0) (5.1.3)\n",
            "Requirement already satisfied: Pillow>=6.0.0 in /usr/local/lib/python3.7/dist-packages (from virtual-scanner==2.0.0) (9.1.0)\n",
            "Requirement already satisfied: protobuf==3.7.1 in /usr/local/lib/python3.7/dist-packages (from virtual-scanner==2.0.0) (3.7.1)\n",
            "Requirement already satisfied: pydicom==1.2.2 in /usr/local/lib/python3.7/dist-packages (from virtual-scanner==2.0.0) (1.2.2)\n",
            "Requirement already satisfied: pyparsing==2.3.1 in /usr/local/lib/python3.7/dist-packages (from virtual-scanner==2.0.0) (2.3.1)\n",
            "Requirement already satisfied: pypulseq==1.3.1.post1 in /usr/local/lib/python3.7/dist-packages (from virtual-scanner==2.0.0) (1.3.1.post1)\n",
            "Requirement already satisfied: python-dateutil==2.8.0 in /usr/local/lib/python3.7/dist-packages (from virtual-scanner==2.0.0) (2.8.0)\n",
            "Requirement already satisfied: PyYAML==5.1 in /usr/local/lib/python3.7/dist-packages (from virtual-scanner==2.0.0) (5.1)\n",
            "Requirement already satisfied: scipy>=1.2.1 in /usr/local/lib/python3.7/dist-packages (from virtual-scanner==2.0.0) (1.7.3)\n",
            "Requirement already satisfied: six==1.12.0 in /usr/local/lib/python3.7/dist-packages (from virtual-scanner==2.0.0) (1.12.0)\n",
            "Requirement already satisfied: tensorboard>=1.13.1 in /usr/local/lib/python3.7/dist-packages (from virtual-scanner==2.0.0) (1.15.0)\n",
            "Requirement already satisfied: tensorflow==1.15.2 in /usr/local/lib/python3.7/dist-packages (from virtual-scanner==2.0.0) (1.15.2)\n",
            "Requirement already satisfied: tensorflow-estimator>=1.13.0 in /usr/local/lib/python3.7/dist-packages (from virtual-scanner==2.0.0) (1.15.1)\n",
            "Requirement already satisfied: termcolor==1.1.0 in /usr/local/lib/python3.7/dist-packages (from virtual-scanner==2.0.0) (1.1.0)\n",
            "Requirement already satisfied: Werkzeug==0.15.2 in /usr/local/lib/python3.7/dist-packages (from virtual-scanner==2.0.0) (0.15.2)\n",
            "Requirement already satisfied: scikit-image==0.15.0 in /usr/local/lib/python3.7/dist-packages (from virtual-scanner==2.0.0) (0.15.0)\n",
            "Requirement already satisfied: selenium==3.141.0 in /usr/local/lib/python3.7/dist-packages (from virtual-scanner==2.0.0) (3.141.0)\n",
            "Requirement already satisfied: setuptools in /usr/local/lib/python3.7/dist-packages (from kiwisolver==1.0.1->virtual-scanner==2.0.0) (57.4.0)\n",
            "Requirement already satisfied: imageio>=2.0.1 in /usr/local/lib/python3.7/dist-packages (from scikit-image==0.15.0->virtual-scanner==2.0.0) (2.4.1)\n",
            "Requirement already satisfied: networkx>=2.0 in /usr/local/lib/python3.7/dist-packages (from scikit-image==0.15.0->virtual-scanner==2.0.0) (2.6.3)\n",
            "Requirement already satisfied: PyWavelets>=0.4.0 in /usr/local/lib/python3.7/dist-packages (from scikit-image==0.15.0->virtual-scanner==2.0.0) (1.3.0)\n",
            "Requirement already satisfied: urllib3 in /usr/local/lib/python3.7/dist-packages (from selenium==3.141.0->virtual-scanner==2.0.0) (1.24.3)\n",
            "Requirement already satisfied: opt-einsum>=2.3.2 in /usr/local/lib/python3.7/dist-packages (from tensorflow==1.15.2->virtual-scanner==2.0.0) (3.3.0)\n",
            "Requirement already satisfied: wheel>=0.26 in /usr/local/lib/python3.7/dist-packages (from tensorflow==1.15.2->virtual-scanner==2.0.0) (0.37.1)\n",
            "Requirement already satisfied: google-pasta>=0.1.6 in /usr/local/lib/python3.7/dist-packages (from tensorflow==1.15.2->virtual-scanner==2.0.0) (0.2.0)\n",
            "Requirement already satisfied: wrapt>=1.11.1 in /usr/local/lib/python3.7/dist-packages (from tensorflow==1.15.2->virtual-scanner==2.0.0) (1.14.0)\n",
            "Requirement already satisfied: packaging>=20.0 in /usr/local/lib/python3.7/dist-packages (from matplotlib>=3.3.4->virtual-scanner==2.0.0) (21.3)\n",
            "Requirement already satisfied: fonttools>=4.22.0 in /usr/local/lib/python3.7/dist-packages (from matplotlib>=3.3.4->virtual-scanner==2.0.0) (4.33.3)\n"
          ]
        }
      ],
      "source": [
        "#  Installing, importing, ... \n",
        "!pip install git+https://github.com/imr-framework/virtual-scanner.git@2c9b320165f39d07e99e7d11d0fce5ba190d14dd"
      ]
    },
    {
      "cell_type": "code",
      "source": [
        "# Install pypulseq ver. with custom \"export_waveforms\" function\n",
        "!pip install pypulseq==1.3.1post1"
      ],
      "metadata": {
        "id": "QXT_pO4yv733",
        "colab": {
          "base_uri": "https://localhost:8080/"
        },
        "outputId": "ad3536a0-9777-432f-c78e-d302e1084fed"
      },
      "execution_count": null,
      "outputs": [
        {
          "output_type": "stream",
          "name": "stdout",
          "text": [
            "Requirement already satisfied: pypulseq==1.3.1post1 in /usr/local/lib/python3.7/dist-packages (1.3.1.post1)\n",
            "Requirement already satisfied: matplotlib>=3.3.4 in /usr/local/lib/python3.7/dist-packages (from pypulseq==1.3.1post1) (3.5.1)\n",
            "Requirement already satisfied: scipy>=1.5.4 in /usr/local/lib/python3.7/dist-packages (from pypulseq==1.3.1post1) (1.7.3)\n",
            "Requirement already satisfied: numpy>=1.19.5 in /usr/local/lib/python3.7/dist-packages (from pypulseq==1.3.1post1) (1.21.6)\n",
            "Requirement already satisfied: kiwisolver>=1.0.1 in /usr/local/lib/python3.7/dist-packages (from matplotlib>=3.3.4->pypulseq==1.3.1post1) (1.0.1)\n",
            "Requirement already satisfied: packaging>=20.0 in /usr/local/lib/python3.7/dist-packages (from matplotlib>=3.3.4->pypulseq==1.3.1post1) (21.3)\n",
            "Requirement already satisfied: pyparsing>=2.2.1 in /usr/local/lib/python3.7/dist-packages (from matplotlib>=3.3.4->pypulseq==1.3.1post1) (2.3.1)\n",
            "Requirement already satisfied: pillow>=6.2.0 in /usr/local/lib/python3.7/dist-packages (from matplotlib>=3.3.4->pypulseq==1.3.1post1) (9.1.0)\n",
            "Requirement already satisfied: python-dateutil>=2.7 in /usr/local/lib/python3.7/dist-packages (from matplotlib>=3.3.4->pypulseq==1.3.1post1) (2.8.0)\n",
            "Requirement already satisfied: cycler>=0.10 in /usr/local/lib/python3.7/dist-packages (from matplotlib>=3.3.4->pypulseq==1.3.1post1) (0.10.0)\n",
            "Requirement already satisfied: fonttools>=4.22.0 in /usr/local/lib/python3.7/dist-packages (from matplotlib>=3.3.4->pypulseq==1.3.1post1) (4.33.3)\n",
            "Requirement already satisfied: six in /usr/local/lib/python3.7/dist-packages (from cycler>=0.10->matplotlib>=3.3.4->pypulseq==1.3.1post1) (1.12.0)\n",
            "Requirement already satisfied: setuptools in /usr/local/lib/python3.7/dist-packages (from kiwisolver>=1.0.1->matplotlib>=3.3.4->pypulseq==1.3.1post1) (57.4.0)\n"
          ]
        }
      ]
    },
    {
      "cell_type": "code",
      "source": [
        "!pip install plotly==5.7.0"
      ],
      "metadata": {
        "colab": {
          "base_uri": "https://localhost:8080/"
        },
        "id": "fcWzQzcBSUrZ",
        "outputId": "7893bac2-e3d3-4104-9399-fbb909f0fb90"
      },
      "execution_count": null,
      "outputs": [
        {
          "output_type": "stream",
          "name": "stdout",
          "text": [
            "Requirement already satisfied: plotly==5.7.0 in /usr/local/lib/python3.7/dist-packages (5.7.0)\n",
            "Requirement already satisfied: tenacity>=6.2.0 in /usr/local/lib/python3.7/dist-packages (from plotly==5.7.0) (8.0.1)\n",
            "Requirement already satisfied: six in /usr/local/lib/python3.7/dist-packages (from plotly==5.7.0) (1.12.0)\n"
          ]
        }
      ]
    },
    {
      "cell_type": "code",
      "source": [
        "!pip install pillow==9.1.0"
      ],
      "metadata": {
        "colab": {
          "base_uri": "https://localhost:8080/"
        },
        "id": "vg9i_KNkUJ3j",
        "outputId": "f685bb9f-232e-4618-b29e-1521c6e8c360"
      },
      "execution_count": null,
      "outputs": [
        {
          "output_type": "stream",
          "name": "stdout",
          "text": [
            "Requirement already satisfied: pillow==9.1.0 in /usr/local/lib/python3.7/dist-packages (9.1.0)\n"
          ]
        }
      ]
    },
    {
      "cell_type": "markdown",
      "source": [
        "# Import functions and define helper functions"
      ],
      "metadata": {
        "id": "7KFH1gg4G40d"
      }
    },
    {
      "cell_type": "code",
      "source": [
        "# Import all functions here\n",
        "import matplotlib.pyplot as plt\n",
        "import virtualscanner.server.simulation.bloch.phantom as pht\n",
        "from pypulseq.Sequence.sequence import Sequence\n",
        "import time\n",
        "import multiprocessing as mp\n",
        "import virtualscanner.server.simulation.bloch.pulseq_blochsim_methods as blcsim\n",
        "from virtualscanner.server.simulation.bloch.pulseq_library import make_pulseq_epi_oblique\n",
        "from google.colab import files\n",
        "import numpy as np \n",
        "from scipy.io import savemat, loadmat\n",
        "from ipywidgets import *\n",
        "from IPython.display import clear_output, display\n",
        "from google.colab import files\n",
        "import math\n",
        "import numpy as np\n",
        "from matplotlib import pyplot as plt\n",
        "from pypulseq.calc_rf_center import calc_rf_center\n",
        "from scipy.io import savemat\n",
        "import plotly.express as px\n",
        "import plotly.graph_objects as go\n",
        "from plotly.subplots import make_subplots\n",
        "from PIL import Image\n"
      ],
      "metadata": {
        "id": "Uqklox01v6qF"
      },
      "execution_count": null,
      "outputs": []
    },
    {
      "cell_type": "code",
      "source": [
        "def export_waveforms(seq, time_range=(0, np.inf)):\n",
        "    \"\"\"\n",
        "    Plot `Sequence`.\n",
        "    Parameters\n",
        "    ----------\n",
        "    time_range : iterable, default=(0, np.inf)\n",
        "        Time range (x-axis limits) for all waveforms. Default is 0 to infinity (entire sequence).\n",
        "    Returns\n",
        "    -------\n",
        "    all_waveforms: dict\n",
        "        Dictionary containing all sequence waveforms and time array(s)\n",
        "        The keys are listed here:\n",
        "        't_adc' - ADC timing array [seconds]\n",
        "        't_rf' - RF timing array [seconds]\n",
        "        ''\n",
        "        'adc' - ADC complex signal (amplitude=1, phase=adc phase) [a.u.]\n",
        "        'rf' - RF complex signal []\n",
        "        'gx' - x gradient []\n",
        "        'gy' - y gradient []\n",
        "        'gz' - z gradient []\n",
        "    \"\"\"\n",
        "    # Check time range validity\n",
        "    if not all([isinstance(x, (int, float)) for x in time_range]) or len(time_range) != 2:\n",
        "        raise ValueError('Invalid time range')\n",
        "\n",
        "    t0 = 0\n",
        "    adc_t_all = np.array([])\n",
        "    adc_signal_all = np.array([],dtype=complex)\n",
        "    rf_t_all =np.array([])\n",
        "    rf_signal_all = np.array([],dtype=complex)\n",
        "    rf_t_centers = np.array([])\n",
        "    rf_signal_centers = np.array([],dtype=complex)\n",
        "    gx_t_all = np.array([])\n",
        "    gy_t_all = np.array([])\n",
        "    gz_t_all = np.array([])\n",
        "    gx_all = np.array([])\n",
        "    gy_all = np.array([])\n",
        "    gz_all = np.array([])\n",
        "\n",
        "\n",
        "    for block_counter in range(len(seq.dict_block_events)): # For each block\n",
        "        block = seq.get_block(block_counter + 1)  # Retrieve it\n",
        "        is_valid = time_range[0] <= t0 <= time_range[1] # Check if \"current time\" is within requested range.\n",
        "        if is_valid:\n",
        "            # Case 1: ADC\n",
        "            if hasattr(block, 'adc'):\n",
        "                adc = block.adc # Get adc info\n",
        "                # From Pulseq: According to the information from Klaus Scheffler and indirectly from Siemens this\n",
        "                # is the present convention - the samples are shifted by 0.5 dwell # OK\n",
        "\n",
        "                t = adc.delay + (np.arange(int(adc.num_samples)) + 0.5) * adc.dwell\n",
        "                adc_t = t0 + t\n",
        "                adc_signal = np.exp(1j * adc.phase_offset) * np.exp(1j * 2 * np.pi * t * adc.freq_offset)\n",
        "                adc_t_all = np.append(adc_t_all, adc_t)\n",
        "                adc_signal_all = np.append(adc_signal_all, adc_signal)\n",
        "\n",
        "            if hasattr(block, 'rf'):\n",
        "                rf = block.rf\n",
        "                tc, ic = calc_rf_center(rf)\n",
        "                t = rf.t + rf.delay\n",
        "                tc = tc + rf.delay\n",
        "                #\n",
        "                # sp12.plot(t_factor * (t0 + t), np.abs(rf.signal))\n",
        "                # sp13.plot(t_factor * (t0 + t), np.angle(rf.signal * np.exp(1j * rf.phase_offset)\n",
        "                #                                         * np.exp(1j * 2 * math.pi * rf.t * rf.freq_offset)),\n",
        "                #           t_factor * (t0 + tc), np.angle(rf.signal[ic] * np.exp(1j * rf.phase_offset)\n",
        "                #                                          * np.exp(1j * 2 * math.pi * rf.t[ic] * rf.freq_offset)),\n",
        "                #           'xb')\n",
        "\n",
        "                rf_t = t0 + t\n",
        "                rf = rf.signal * np.exp(1j * rf.phase_offset) \\\n",
        "                                                        * np.exp(1j * 2 * math.pi * rf.t * rf.freq_offset)\n",
        "                rf_t_all = np.append(rf_t_all, rf_t)\n",
        "                rf_signal_all = np.append(rf_signal_all, rf)\n",
        "                rf_t_centers = np.append(rf_t_centers, rf_t[ic])\n",
        "                rf_signal_centers = np.append(rf_signal_centers, rf[ic])\n",
        "\n",
        "            grad_channels = ['gx', 'gy', 'gz']\n",
        "            for x in range(len(grad_channels)): # Check each gradient channel: x, y, and z\n",
        "                if hasattr(block, grad_channels[x]): # If this channel is on in current block\n",
        "                    grad = getattr(block, grad_channels[x])\n",
        "                    if grad.type == 'grad':# Arbitrary gradient option\n",
        "                        # In place unpacking of grad.t with the starred expression\n",
        "                        g_t = t0 +  grad.delay + [0, *(grad.t + (grad.t[1] - grad.t[0]) / 2),\n",
        "                                              grad.t[-1] + grad.t[1] - grad.t[0]]\n",
        "                        g = 1e-3 * np.array((grad.first, *grad.waveform, grad.last))\n",
        "                    else: # Trapezoid gradient option\n",
        "                        g_t = t0 + np.cumsum([0, grad.delay, grad.rise_time, grad.flat_time, grad.fall_time])\n",
        "                        g = 1e-3 * grad.amplitude * np.array([0, 0, 1, 1, 0])\n",
        "\n",
        "                    if grad.channel == 'x':\n",
        "                        gx_t_all = np.append(gx_t_all, g_t)\n",
        "                        gx_all = np.append(gx_all,g)\n",
        "                    elif grad.channel == 'y':\n",
        "                        gy_t_all = np.append(gy_t_all, g_t)\n",
        "                        gy_all = np.append(gy_all,g)\n",
        "                    elif grad.channel == 'z':\n",
        "                        gz_t_all = np.append(gz_t_all, g_t)\n",
        "                        gz_all = np.append(gz_all,g)\n",
        "\n",
        "\n",
        "        t0 += seq.arr_block_durations[block_counter] # \"Current time\" gets updated to end of block just examined\n",
        "\n",
        "    all_waveforms = {'t_adc': adc_t_all, 't_rf': rf_t_all, 't_rf_centers': rf_t_centers,\n",
        "                     't_gx': gx_t_all, 't_gy':gy_t_all, 't_gz':gz_t_all,\n",
        "                     'adc': adc_signal_all, 'rf': rf_signal_all, 'rf_centers': rf_signal_centers,'gx':gx_all, 'gy':gy_all, 'gz':gz_all,\n",
        "                     'grad_unit': '[kHz/m]', 'rf_unit': '[Hz]', 'time_unit':'[seconds]'}\n",
        "\n",
        "    return all_waveforms"
      ],
      "metadata": {
        "id": "hJuObpHZad8B"
      },
      "execution_count": null,
      "outputs": []
    },
    {
      "cell_type": "code",
      "source": [
        "def display_seq_interactive(all_waveforms,time_range=(0,np.inf)): \n",
        "  fig = make_subplots(rows=3, cols=2,\n",
        "      subplot_titles=(\"RF magnitude\", \"Gx\", \"RF phase\", \"Gy\", \"ADC\", \"Gz\"),shared_xaxes='all',row_heights=[10,10,10])\n",
        "\n",
        "  fig.add_trace(go.Scatter(x=all_waveforms['t_rf'],y=np.absolute(all_waveforms['rf']),mode='lines',name='RF magnitude',line=dict(color='blue',width=2)),\n",
        "                row=1,col=1)\n",
        "  fig.add_trace(go.Scatter(x=all_waveforms['t_rf'],y=np.angle(all_waveforms['rf']),mode='lines',name='RF phase',line=dict(color='gray',width=2)),\n",
        "                row=2,col=1)\n",
        "  fig.add_trace(go.Scatter(x=all_waveforms['t_adc'],y=np.angle(all_waveforms['adc']),mode='markers',name='ADC with phase',line=dict(color='red',width=2)),\n",
        "                row=3,col=1)\n",
        "  fig.add_trace(go.Scatter(x=all_waveforms['t_gx'],y=all_waveforms['gx'],mode='lines',name='Gx',line=dict(color='green', width=2)), \n",
        "                row=1,col=2)\n",
        "  fig.add_trace(go.Scatter(x=all_waveforms['t_gy'],y=all_waveforms['gy'],mode='lines',name='Gy',line=dict(color='orange', width=2)), \n",
        "                row=2,col=2)\n",
        "  fig.add_trace(go.Scatter(x=all_waveforms['t_gz'],y=all_waveforms['gz'],mode='lines',name='Gz',line=dict(color='purple', width=2)), \n",
        "                row=3,col=2)\n",
        "  \n",
        "  fig.update_xaxes(title_text=\"Time (seconds)\", row=3, col=1,range=time_range)\n",
        "  fig.update_xaxes(title_text=\"Time (seconds)\", row=3, col=2,range=time_range)\n",
        "  fig.update_yaxes(title_text=all_waveforms['rf_unit'],row=1,col=1)\n",
        "  fig.update_yaxes(title_text='[rads]',row=2,col=1)\n",
        "  fig.update_yaxes(title_text='[rads]',row=3,col=1)\n",
        "  \n",
        "  \n",
        "  fig.show()"
      ],
      "metadata": {
        "id": "eujmkQvIgXQ7"
      },
      "execution_count": null,
      "outputs": []
    },
    {
      "cell_type": "code",
      "source": [
        "def display_vs_phantom(pht, zindex=0):\n",
        "  p = pht\n",
        "  fig = make_subplots(rows=1, cols=3,\n",
        "        subplot_titles=(\"T1 (seconds)\", \"T2 (seconds)\", \"PD (a.u.)\"))\n",
        "  fig.add_trace(go.Heatmap(z=p.T1map[:,:,zindex],colorbar=dict(len=1.05,x=0.3)),row=1,col=1)\n",
        "  fig.add_trace(go.Heatmap(z=p.T2map[:,:,zindex],colorbar=dict(len=1.05,x=0.65)),row=1,col=2)\n",
        "  fig.add_trace(go.Heatmap(z=p.PDmap[:,:,zindex],colorbar=dict(len=1.05,x=1)),row=1,col=3)\n",
        "\n",
        "  fig.update_xaxes(showticklabels=False)\n",
        "  fig.update_yaxes(showticklabels=False)\n",
        "  fig.show()"
      ],
      "metadata": {
        "id": "UDWczNXCv3K1"
      },
      "execution_count": null,
      "outputs": []
    },
    {
      "cell_type": "code",
      "source": [
        "def display_b0_b1_maps(scanner_info,zindex=0):\n",
        "  b0 = scanner_info['B0']\n",
        "  tx = scanner_info['B1tx']\n",
        "  rx = scanner_info['B1rx']\n",
        "\n",
        "  fig = make_subplots(rows=2,cols=3,\n",
        "                      subplot_titles=(\"B0 (Hz)\", \"B1 Tx magnitude\", \"B1 Rx magnitude\",\"\",\"B1 Tx phase (rad)\",\"B1 Rx phase (rad)\"))\n",
        "  \n",
        "  fig.update_layout(height=1000,width=1200)\n",
        "\n",
        "  fig.add_trace(go.Heatmap(z=b0[:,:,zindex],colorbar=dict(len=0.4,x=0.29,y=0.81)),row=1,col=1)\n",
        "  fig.add_trace(go.Heatmap(z=np.absolute(tx[:,:,zindex]),colorbar=dict(len=0.4,x=0.64,y=0.81)),row=1,col=2)\n",
        "  fig.add_trace(go.Heatmap(z=np.absolute(rx[:,:,zindex]),colorbar=dict(len=0.4,x=1,y=0.82)),row=1,col=3)\n",
        "  fig.add_trace(go.Heatmap(z=np.angle(tx[:,:,zindex]),colorbar=dict(len=0.4,x=0.64,y=0.19)),row=2,col=2)\n",
        "  fig.add_trace(go.Heatmap(z=np.angle(rx[:,:,zindex]),colorbar=dict(len=0.4,x=1,y=0.19)),row=2,col=3)\n",
        "\n",
        "  for r in range(2):\n",
        "    for c in range(3):\n",
        "      fig.update_yaxes(showgrid=False,showticklabels=False,row=r+1,col=c+1)\n",
        "      fig.update_xaxes(showgrid=False,showticklabels=False,row=r+1,col=c+1)\n",
        "\n",
        "\n",
        "\n",
        "  fig.show()"
      ],
      "metadata": {
        "id": "Mx9H7gHFCR_j"
      },
      "execution_count": null,
      "outputs": []
    },
    {
      "cell_type": "code",
      "source": [
        "# Grab files\n",
        "!wget https://raw.githubusercontent.com/imr-framework/virtual-scanner/dev/virtualscanner/notebooks/data/epi_pypulseq_32.seq\n",
        "!wget https://raw.githubusercontent.com/imr-framework/virtual-scanner/dev/virtualscanner/notebooks/data/b0_map_smaller_Hz.mat\n",
        "!wget https://raw.githubusercontent.com/imr-framework/virtual-scanner/dev/virtualscanner/notebooks/data/rx_maps_ds_16_32.mat"
      ],
      "metadata": {
        "colab": {
          "base_uri": "https://localhost:8080/"
        },
        "id": "b4T1Jxvp5nId",
        "outputId": "fc663607-08d4-4745-b668-aae25e327c40"
      },
      "execution_count": null,
      "outputs": [
        {
          "output_type": "stream",
          "name": "stdout",
          "text": [
            "--2022-05-02 02:11:12--  https://raw.githubusercontent.com/imr-framework/virtual-scanner/dev/virtualscanner/notebooks/data/epi_pypulseq_32.seq\n",
            "Resolving raw.githubusercontent.com (raw.githubusercontent.com)... 185.199.111.133, 185.199.110.133, 185.199.108.133, ...\n",
            "Connecting to raw.githubusercontent.com (raw.githubusercontent.com)|185.199.111.133|:443... connected.\n",
            "HTTP request sent, awaiting response... 200 OK\n",
            "Length: 32889 (32K) [text/plain]\n",
            "Saving to: ‘epi_pypulseq_32.seq.2’\n",
            "\n",
            "\repi_pypulseq_32.seq   0%[                    ]       0  --.-KB/s               \repi_pypulseq_32.seq 100%[===================>]  32.12K  --.-KB/s    in 0.001s  \n",
            "\n",
            "2022-05-02 02:11:12 (41.8 MB/s) - ‘epi_pypulseq_32.seq.2’ saved [32889/32889]\n",
            "\n",
            "--2022-05-02 02:11:12--  https://raw.githubusercontent.com/imr-framework/virtual-scanner/dev/virtualscanner/notebooks/data/b0_map_smaller_Hz.mat\n",
            "Resolving raw.githubusercontent.com (raw.githubusercontent.com)... 185.199.109.133, 185.199.110.133, 185.199.108.133, ...\n",
            "Connecting to raw.githubusercontent.com (raw.githubusercontent.com)|185.199.109.133|:443... connected.\n",
            "HTTP request sent, awaiting response... 200 OK\n",
            "Length: 9430 (9.2K) [application/octet-stream]\n",
            "Saving to: ‘b0_map_smaller_Hz.mat.2’\n",
            "\n",
            "b0_map_smaller_Hz.m 100%[===================>]   9.21K  --.-KB/s    in 0s      \n",
            "\n",
            "2022-05-02 02:11:13 (96.0 MB/s) - ‘b0_map_smaller_Hz.mat.2’ saved [9430/9430]\n",
            "\n",
            "--2022-05-02 02:11:13--  https://raw.githubusercontent.com/imr-framework/virtual-scanner/dev/virtualscanner/notebooks/data/rx_maps_ds_16_32.mat\n",
            "Resolving raw.githubusercontent.com (raw.githubusercontent.com)... 185.199.110.133, 185.199.111.133, 185.199.108.133, ...\n",
            "Connecting to raw.githubusercontent.com (raw.githubusercontent.com)|185.199.110.133|:443... connected.\n",
            "HTTP request sent, awaiting response... 200 OK\n",
            "Length: 364407 (356K) [application/octet-stream]\n",
            "Saving to: ‘rx_maps_ds_16_32.mat.2’\n",
            "\n",
            "rx_maps_ds_16_32.ma 100%[===================>] 355.87K  --.-KB/s    in 0.01s   \n",
            "\n",
            "2022-05-02 02:11:13 (29.3 MB/s) - ‘rx_maps_ds_16_32.mat.2’ saved [364407/364407]\n",
            "\n"
          ]
        }
      ]
    },
    {
      "cell_type": "markdown",
      "source": [
        "# Make or load a Pulseq file and visualize the sequence\n",
        "**Step 1: Select the sequence**\n",
        "\n",
        "Using the form on the right:\n",
        "* Select \"EPI\" to simulate a default single-shot EPI sequence \n",
        "* Select \"Custom\" to simulate your own file\n",
        "\n",
        "After selecting, click run. Upload your custom .seq file if prompted."
      ],
      "metadata": {
        "id": "_Rt98WUJvvsc"
      }
    },
    {
      "cell_type": "code",
      "source": [
        "#@title Sequence Option\n",
        "seq_type  = 'EPI' #@param[\"EPI\",\"Custom\"] \n",
        "# Run this cell to continue setting up the sequence \n",
        "if seq_type == 'EPI':\n",
        "  print('Setting up EPI sequence...')\n",
        "  #@title EPI Parameters\n",
        "  #@markdown You only need to fill the following fields for the demo EPI simulation.\n",
        "  #@markdown Timings are in units of (ms) and spatial units are in (mm).\n",
        "  N =  16#@param {type: \"integer\"} \n",
        "  FOV = 250 #@param {type: \"number\"}\n",
        "  TR = 1000 #@param {type: \"number\"}\n",
        "  TE = 50 #@param {type: \"number\"}\n",
        "\n",
        "  seq, ro_dirs, ro_order = make_pulseq_epi_oblique(FOV*1e-3,N,thk=5e-3,fa=90,tr=TR*1e-3,te=TE*1e-3,slice_locs=[0])\n",
        "  print(\"EPI sequence generated.\")\n",
        "if seq_type == 'Custom':\n",
        "  uploaded = files.upload()\n",
        "  seqname = list(uploaded.keys())[0]\n",
        "  seq = Sequence()\n",
        "  seq.read(seqname)\n",
        "#@markdown If choosing \"Custom\", click \"Choose Files\" below to upload your .seq file."
      ],
      "metadata": {
        "colab": {
          "base_uri": "https://localhost:8080/"
        },
        "id": "ntb33jEpTpWT",
        "outputId": "b0c84792-6303-44fc-c3ac-cb48375a3461",
        "cellView": "form"
      },
      "execution_count": null,
      "outputs": [
        {
          "output_type": "stream",
          "name": "stdout",
          "text": [
            "Setting up EPI sequence...\n",
            "ug_fe:  (1, 0, 0)\n",
            "ug_pe:  (0, 1, 0)\n",
            "ug_ss:  (0, 0, 1)\n",
            "ADC delay:  8e-05\n",
            "EPI sequence (oblique) constructed\n",
            "EPI sequence generated.\n"
          ]
        }
      ]
    },
    {
      "cell_type": "markdown",
      "source": [
        "**Step 2**: Display the sequence"
      ],
      "metadata": {
        "id": "-lC02hmZ1owI"
      }
    },
    {
      "cell_type": "code",
      "source": [
        "# Display sequence\n",
        "#@title Display sequence \n",
        "#@markdown Choose the desired time range in [seconds]. Then run this cell.\n",
        "\n",
        "\n",
        "#all_waveforms = export_waveforms(seq, time_range=[start_time,end_time])\n",
        "min_time = 0.04 #@param {type:\"number\"}\n",
        "max_time = 0.1#@param {type:\"number\"}\n",
        "all_waveforms = export_waveforms(seq,time_range=[min_time,max_time])\n",
        "display_seq_interactive(all_waveforms,time_range=[min_time,max_time])"
      ],
      "metadata": {
        "colab": {
          "base_uri": "https://localhost:8080/",
          "height": 542
        },
        "cellView": "form",
        "id": "CQpjkyMU4zn7",
        "outputId": "fc7aa6f5-2979-4705-9f5a-a1246cce56a4"
      },
      "execution_count": null,
      "outputs": [
        {
          "output_type": "display_data",
          "data": {
            "text/html": [
              "<html>\n",
              "<head><meta charset=\"utf-8\" /></head>\n",
              "<body>\n",
              "    <div>            <script src=\"https://cdnjs.cloudflare.com/ajax/libs/mathjax/2.7.5/MathJax.js?config=TeX-AMS-MML_SVG\"></script><script type=\"text/javascript\">if (window.MathJax) {MathJax.Hub.Config({SVG: {font: \"STIX-Web\"}});}</script>                <script type=\"text/javascript\">window.PlotlyConfig = {MathJaxConfig: 'local'};</script>\n",
              "        <script src=\"https://cdn.plot.ly/plotly-2.11.1.min.js\"></script>                <div id=\"23a1d484-9fed-4959-9345-c02bbc151c30\" class=\"plotly-graph-div\" style=\"height:525px; width:100%;\"></div>            <script type=\"text/javascript\">                                    window.PLOTLYENV=window.PLOTLYENV || {};                                    if (document.getElementById(\"23a1d484-9fed-4959-9345-c02bbc151c30\")) {                    Plotly.newPlot(                        \"23a1d484-9fed-4959-9345-c02bbc151c30\",                        [{\"line\":{\"color\":\"blue\",\"width\":2},\"mode\":\"lines\",\"name\":\"RF magnitude\",\"x\":[],\"y\":[],\"type\":\"scatter\",\"xaxis\":\"x\",\"yaxis\":\"y\"},{\"line\":{\"color\":\"gray\",\"width\":2},\"mode\":\"lines\",\"name\":\"RF phase\",\"x\":[],\"y\":[],\"type\":\"scatter\",\"xaxis\":\"x3\",\"yaxis\":\"y3\"},{\"line\":{\"color\":\"red\",\"width\":2},\"mode\":\"markers\",\"name\":\"ADC with phase\",\"x\":[0.048435000000000006,0.048445,0.048455000000000005,0.048465,0.048475000000000004,0.04848500000000001,0.048495,0.048505000000000006,0.048515,0.048525000000000006,0.048535,0.048545000000000005,0.048555,0.048565000000000004,0.04857500000000001,0.048585,0.048815000000000004,0.048825,0.048835,0.048845,0.048855,0.048865000000000006,0.048875,0.048885000000000005,0.048895,0.048905000000000004,0.048915,0.048925,0.048935,0.048945,0.048955000000000005,0.048965,0.049195,0.049205,0.049215,0.049225,0.049235,0.049245000000000004,0.049255,0.049265,0.049275,0.049285,0.049295,0.049305,0.049315,0.049325,0.049335000000000004,0.049345,0.049575,0.049585,0.049595,0.049604999999999996,0.049615,0.049625,0.049635,0.049645,0.049655,0.049665,0.049675,0.049685,0.049694999999999996,0.049705,0.049715,0.049725,0.049955,0.049964999999999996,0.049975,0.049984999999999995,0.049995,0.050005,0.050015,0.050025,0.050034999999999996,0.050045,0.050054999999999995,0.050065,0.050074999999999995,0.050085,0.050095,0.050105,0.050335,0.050344999999999994,0.050355,0.05036499999999999,0.050374999999999996,0.050385,0.050394999999999995,0.050405,0.050414999999999995,0.050425,0.050434999999999994,0.050445,0.05045499999999999,0.050464999999999996,0.050475,0.050484999999999995,0.050714999999999996,0.05072499999999999,0.050734999999999995,0.05074499999999999,0.050754999999999995,0.050765,0.050774999999999994,0.050785,0.05079499999999999,0.050804999999999996,0.05081499999999999,0.050824999999999995,0.05083499999999999,0.050844999999999994,0.050855,0.050864999999999994,0.051094999999999995,0.05110499999999999,0.051114999999999994,0.05112499999999999,0.05113499999999999,0.051144999999999996,0.05115499999999999,0.051164999999999995,0.05117499999999999,0.051184999999999994,0.05119499999999999,0.051204999999999994,0.05121499999999999,0.05122499999999999,0.051234999999999996,0.05124499999999999,0.05147499999999999,0.05148499999999999,0.05149499999999999,0.05150499999999999,0.05151499999999999,0.051524999999999994,0.05153499999999999,0.051544999999999994,0.05155499999999999,0.05156499999999999,0.05157499999999999,0.05158499999999999,0.05159499999999999,0.05160499999999999,0.051614999999999994,0.05162499999999999,0.05185499999999999,0.05186499999999999,0.05187499999999999,0.05188499999999999,0.05189499999999999,0.05190499999999999,0.05191499999999999,0.05192499999999999,0.05193499999999999,0.05194499999999999,0.05195499999999999,0.05196499999999999,0.051974999999999986,0.05198499999999999,0.05199499999999999,0.05200499999999999,0.05223499999999999,0.052244999999999986,0.05225499999999999,0.052264999999999985,0.05227499999999999,0.05228499999999999,0.05229499999999999,0.05230499999999999,0.052314999999999987,0.05232499999999999,0.052334999999999986,0.05234499999999999,0.052354999999999985,0.05236499999999999,0.05237499999999999,0.05238499999999999,0.05261499999999999,0.052624999999999984,0.05263499999999999,0.052644999999999983,0.05265499999999999,0.05266499999999999,0.052674999999999986,0.05268499999999999,0.052694999999999985,0.05270499999999999,0.052714999999999984,0.05272499999999999,0.05273499999999998,0.052744999999999986,0.05275499999999999,0.052764999999999986,0.05299499999999999,0.05300499999999998,0.053014999999999986,0.05302499999999998,0.053034999999999985,0.05304499999999999,0.053054999999999984,0.05306499999999999,0.05307499999999998,0.053084999999999986,0.05309499999999998,0.053104999999999986,0.05311499999999998,0.053124999999999985,0.05313499999999999,0.053144999999999984,0.053374999999999985,0.05338499999999998,0.053394999999999984,0.05340499999999998,0.05341499999999998,0.053424999999999986,0.05343499999999998,0.053444999999999986,0.05345499999999998,0.053464999999999985,0.05347499999999998,0.053484999999999984,0.05349499999999998,0.05350499999999998,0.053514999999999986,0.05352499999999998,0.05375499999999998,0.05376499999999998,0.05377499999999998,0.05378499999999998,0.05379499999999998,0.053804999999999985,0.05381499999999998,0.053824999999999984,0.05383499999999998,0.05384499999999998,0.05385499999999998,0.05386499999999998,0.05387499999999998,0.05388499999999998,0.053894999999999985,0.05390499999999998,0.05413499999999998,0.05414499999999998,0.05415499999999998,0.05416499999999998,0.05417499999999998,0.05418499999999998,0.05419499999999998,0.05420499999999998,0.05421499999999998,0.05422499999999998,0.05423499999999998,0.05424499999999998,0.05425499999999998,0.05426499999999998,0.05427499999999998,0.05428499999999998],\"y\":[0.0,0.0,0.0,0.0,0.0,0.0,0.0,0.0,0.0,0.0,0.0,0.0,0.0,0.0,0.0,0.0,0.0,0.0,0.0,0.0,0.0,0.0,0.0,0.0,0.0,0.0,0.0,0.0,0.0,0.0,0.0,0.0,0.0,0.0,0.0,0.0,0.0,0.0,0.0,0.0,0.0,0.0,0.0,0.0,0.0,0.0,0.0,0.0,0.0,0.0,0.0,0.0,0.0,0.0,0.0,0.0,0.0,0.0,0.0,0.0,0.0,0.0,0.0,0.0,0.0,0.0,0.0,0.0,0.0,0.0,0.0,0.0,0.0,0.0,0.0,0.0,0.0,0.0,0.0,0.0,0.0,0.0,0.0,0.0,0.0,0.0,0.0,0.0,0.0,0.0,0.0,0.0,0.0,0.0,0.0,0.0,0.0,0.0,0.0,0.0,0.0,0.0,0.0,0.0,0.0,0.0,0.0,0.0,0.0,0.0,0.0,0.0,0.0,0.0,0.0,0.0,0.0,0.0,0.0,0.0,0.0,0.0,0.0,0.0,0.0,0.0,0.0,0.0,0.0,0.0,0.0,0.0,0.0,0.0,0.0,0.0,0.0,0.0,0.0,0.0,0.0,0.0,0.0,0.0,0.0,0.0,0.0,0.0,0.0,0.0,0.0,0.0,0.0,0.0,0.0,0.0,0.0,0.0,0.0,0.0,0.0,0.0,0.0,0.0,0.0,0.0,0.0,0.0,0.0,0.0,0.0,0.0,0.0,0.0,0.0,0.0,0.0,0.0,0.0,0.0,0.0,0.0,0.0,0.0,0.0,0.0,0.0,0.0,0.0,0.0,0.0,0.0,0.0,0.0,0.0,0.0,0.0,0.0,0.0,0.0,0.0,0.0,0.0,0.0,0.0,0.0,0.0,0.0,0.0,0.0,0.0,0.0,0.0,0.0,0.0,0.0,0.0,0.0,0.0,0.0,0.0,0.0,0.0,0.0,0.0,0.0,0.0,0.0,0.0,0.0,0.0,0.0,0.0,0.0,0.0,0.0,0.0,0.0,0.0,0.0,0.0,0.0,0.0,0.0,0.0,0.0,0.0,0.0,0.0,0.0,0.0,0.0,0.0,0.0,0.0,0.0],\"type\":\"scatter\",\"xaxis\":\"x5\",\"yaxis\":\"y5\"},{\"line\":{\"color\":\"green\",\"width\":2},\"mode\":\"lines\",\"name\":\"Gx\",\"x\":[0.048350000000000004,0.048350000000000004,0.04843,0.04859,0.048670000000000005,0.048670000000000005,0.048670000000000005,0.048690000000000004,0.04871,0.04873,0.04873,0.04873,0.04881,0.04897,0.04905,0.04905,0.04905,0.04907,0.04909,0.04911,0.04911,0.04911,0.04919,0.04935,0.04943,0.04943,0.04943,0.04945,0.04947,0.04949,0.04949,0.04949,0.049569999999999996,0.049729999999999996,0.04981,0.04981,0.04981,0.04983,0.04985,0.04987,0.04987,0.04987,0.049949999999999994,0.050109999999999995,0.05019,0.05019,0.05019,0.05021,0.05023,0.050249999999999996,0.050249999999999996,0.050249999999999996,0.05032999999999999,0.05048999999999999,0.05057,0.05057,0.05057,0.050589999999999996,0.050609999999999995,0.050629999999999994,0.050629999999999994,0.050629999999999994,0.05070999999999999,0.05086999999999999,0.050949999999999995,0.050949999999999995,0.050949999999999995,0.050969999999999994,0.050989999999999994,0.05100999999999999,0.05100999999999999,0.05100999999999999,0.05108999999999999,0.05124999999999999,0.051329999999999994,0.051329999999999994,0.051329999999999994,0.05134999999999999,0.05136999999999999,0.05138999999999999,0.05138999999999999,0.05138999999999999,0.05146999999999999,0.05162999999999999,0.05170999999999999,0.05170999999999999,0.05170999999999999,0.05172999999999999,0.05174999999999999,0.05176999999999999,0.05176999999999999,0.05176999999999999,0.051849999999999986,0.05200999999999999,0.05208999999999999,0.05208999999999999,0.05208999999999999,0.05210999999999999,0.05212999999999999,0.05214999999999999,0.05214999999999999,0.05214999999999999,0.052229999999999985,0.052389999999999985,0.05246999999999999,0.05246999999999999,0.05246999999999999,0.05248999999999999,0.05250999999999999,0.052529999999999986,0.052529999999999986,0.052529999999999986,0.05260999999999998,0.052769999999999984,0.05284999999999999,0.05284999999999999,0.05284999999999999,0.052869999999999986,0.052889999999999986,0.052909999999999985,0.052909999999999985,0.052909999999999985,0.05298999999999998,0.05314999999999998,0.053229999999999986,0.053229999999999986,0.053229999999999986,0.053249999999999985,0.053269999999999984,0.05328999999999998,0.05328999999999998,0.05328999999999998,0.05336999999999998,0.05352999999999998,0.053609999999999984,0.053609999999999984,0.053609999999999984,0.05362999999999998,0.05364999999999998,0.05366999999999998,0.05366999999999998,0.05366999999999998,0.05374999999999998,0.05390999999999998,0.05398999999999998,0.05398999999999998,0.05398999999999998,0.05400999999999998,0.05402999999999998,0.05404999999999998,0.05404999999999998,0.05404999999999998,0.05412999999999998,0.05428999999999998,0.05436999999999998,0.05436999999999998,0.05436999999999998,0.05438999999999998,0.05440999999999998,0.05442999999999998],\"y\":[0.0,0.0,399.99999999999994,399.99999999999994,0.0,0.0,0.0,0.0,0.0,0.0,-0.0,-0.0,-399.99999999999994,-399.99999999999994,-0.0,0.0,0.0,0.0,0.0,0.0,0.0,0.0,399.99999999999994,399.99999999999994,0.0,0.0,0.0,0.0,0.0,0.0,-0.0,-0.0,-399.99999999999994,-399.99999999999994,-0.0,0.0,0.0,0.0,0.0,0.0,0.0,0.0,399.99999999999994,399.99999999999994,0.0,0.0,0.0,0.0,0.0,0.0,-0.0,-0.0,-399.99999999999994,-399.99999999999994,-0.0,0.0,0.0,0.0,0.0,0.0,0.0,0.0,399.99999999999994,399.99999999999994,0.0,0.0,0.0,0.0,0.0,0.0,-0.0,-0.0,-399.99999999999994,-399.99999999999994,-0.0,0.0,0.0,0.0,0.0,0.0,0.0,0.0,399.99999999999994,399.99999999999994,0.0,0.0,0.0,0.0,0.0,0.0,-0.0,-0.0,-399.99999999999994,-399.99999999999994,-0.0,0.0,0.0,0.0,0.0,0.0,0.0,0.0,399.99999999999994,399.99999999999994,0.0,0.0,0.0,0.0,0.0,0.0,-0.0,-0.0,-399.99999999999994,-399.99999999999994,-0.0,0.0,0.0,0.0,0.0,0.0,0.0,0.0,399.99999999999994,399.99999999999994,0.0,0.0,0.0,0.0,0.0,0.0,-0.0,-0.0,-399.99999999999994,-399.99999999999994,-0.0,0.0,0.0,0.0,0.0,0.0,0.0,0.0,399.99999999999994,399.99999999999994,0.0,0.0,0.0,0.0,0.0,0.0,-0.0,-0.0,-399.99999999999994,-399.99999999999994,-0.0,0.0,0.0,0.0,0.0,0.0],\"type\":\"scatter\",\"xaxis\":\"x2\",\"yaxis\":\"y2\"},{\"line\":{\"color\":\"orange\",\"width\":2},\"mode\":\"lines\",\"name\":\"Gy\",\"x\":[0.048350000000000004,0.048350000000000004,0.04843,0.04859,0.048670000000000005,0.048670000000000005,0.048670000000000005,0.048690000000000004,0.04871,0.04873,0.04873,0.04873,0.04881,0.04897,0.04905,0.04905,0.04905,0.04907,0.04909,0.04911,0.04911,0.04911,0.04919,0.04935,0.04943,0.04943,0.04943,0.04945,0.04947,0.04949,0.04949,0.04949,0.049569999999999996,0.049729999999999996,0.04981,0.04981,0.04981,0.04983,0.04985,0.04987,0.04987,0.04987,0.049949999999999994,0.050109999999999995,0.05019,0.05019,0.05019,0.05021,0.05023,0.050249999999999996,0.050249999999999996,0.050249999999999996,0.05032999999999999,0.05048999999999999,0.05057,0.05057,0.05057,0.050589999999999996,0.050609999999999995,0.050629999999999994,0.050629999999999994,0.050629999999999994,0.05070999999999999,0.05086999999999999,0.050949999999999995,0.050949999999999995,0.050949999999999995,0.050969999999999994,0.050989999999999994,0.05100999999999999,0.05100999999999999,0.05100999999999999,0.05108999999999999,0.05124999999999999,0.051329999999999994,0.051329999999999994,0.051329999999999994,0.05134999999999999,0.05136999999999999,0.05138999999999999,0.05138999999999999,0.05138999999999999,0.05146999999999999,0.05162999999999999,0.05170999999999999,0.05170999999999999,0.05170999999999999,0.05172999999999999,0.05174999999999999,0.05176999999999999,0.05176999999999999,0.05176999999999999,0.051849999999999986,0.05200999999999999,0.05208999999999999,0.05208999999999999,0.05208999999999999,0.05210999999999999,0.05212999999999999,0.05214999999999999,0.05214999999999999,0.05214999999999999,0.052229999999999985,0.052389999999999985,0.05246999999999999,0.05246999999999999,0.05246999999999999,0.05248999999999999,0.05250999999999999,0.052529999999999986,0.052529999999999986,0.052529999999999986,0.05260999999999998,0.052769999999999984,0.05284999999999999,0.05284999999999999,0.05284999999999999,0.052869999999999986,0.052889999999999986,0.052909999999999985,0.052909999999999985,0.052909999999999985,0.05298999999999998,0.05314999999999998,0.053229999999999986,0.053229999999999986,0.053229999999999986,0.053249999999999985,0.053269999999999984,0.05328999999999998,0.05328999999999998,0.05328999999999998,0.05336999999999998,0.05352999999999998,0.053609999999999984,0.053609999999999984,0.053609999999999984,0.05362999999999998,0.05364999999999998,0.05366999999999998,0.05366999999999998,0.05366999999999998,0.05374999999999998,0.05390999999999998,0.05398999999999998,0.05398999999999998,0.05398999999999998,0.05400999999999998,0.05402999999999998,0.05404999999999998,0.05404999999999998,0.05404999999999998,0.05412999999999998,0.05428999999999998,0.05436999999999998,0.05436999999999998,0.05436999999999998,0.05438999999999998,0.05440999999999998,0.05442999999999998],\"y\":[0.0,0.0,0.0,0.0,0.0,0.0,0.0,99.99999999999997,99.99999999999997,0.0,-0.0,-0.0,-0.0,-0.0,-0.0,0.0,0.0,99.99999999999997,99.99999999999997,0.0,0.0,0.0,0.0,0.0,0.0,0.0,0.0,99.99999999999997,99.99999999999997,0.0,-0.0,-0.0,-0.0,-0.0,-0.0,0.0,0.0,99.99999999999997,99.99999999999997,0.0,0.0,0.0,0.0,0.0,0.0,0.0,0.0,99.99999999999997,99.99999999999997,0.0,-0.0,-0.0,-0.0,-0.0,-0.0,0.0,0.0,99.99999999999997,99.99999999999997,0.0,0.0,0.0,0.0,0.0,0.0,0.0,0.0,99.99999999999997,99.99999999999997,0.0,-0.0,-0.0,-0.0,-0.0,-0.0,0.0,0.0,99.99999999999997,99.99999999999997,0.0,0.0,0.0,0.0,0.0,0.0,0.0,0.0,99.99999999999997,99.99999999999997,0.0,-0.0,-0.0,-0.0,-0.0,-0.0,0.0,0.0,99.99999999999997,99.99999999999997,0.0,0.0,0.0,0.0,0.0,0.0,0.0,0.0,99.99999999999997,99.99999999999997,0.0,-0.0,-0.0,-0.0,-0.0,-0.0,0.0,0.0,99.99999999999997,99.99999999999997,0.0,0.0,0.0,0.0,0.0,0.0,0.0,0.0,99.99999999999997,99.99999999999997,0.0,-0.0,-0.0,-0.0,-0.0,-0.0,0.0,0.0,99.99999999999997,99.99999999999997,0.0,0.0,0.0,0.0,0.0,0.0,0.0,0.0,99.99999999999997,99.99999999999997,0.0,-0.0,-0.0,-0.0,-0.0,-0.0,0.0,0.0,99.99999999999997,99.99999999999997,0.0],\"type\":\"scatter\",\"xaxis\":\"x4\",\"yaxis\":\"y4\"},{\"line\":{\"color\":\"purple\",\"width\":2},\"mode\":\"lines\",\"name\":\"Gz\",\"x\":[0.048350000000000004,0.048350000000000004,0.04843,0.04859,0.048670000000000005,0.048670000000000005,0.048670000000000005,0.048690000000000004,0.04871,0.04873,0.04873,0.04873,0.04881,0.04897,0.04905,0.04905,0.04905,0.04907,0.04909,0.04911,0.04911,0.04911,0.04919,0.04935,0.04943,0.04943,0.04943,0.04945,0.04947,0.04949,0.04949,0.04949,0.049569999999999996,0.049729999999999996,0.04981,0.04981,0.04981,0.04983,0.04985,0.04987,0.04987,0.04987,0.049949999999999994,0.050109999999999995,0.05019,0.05019,0.05019,0.05021,0.05023,0.050249999999999996,0.050249999999999996,0.050249999999999996,0.05032999999999999,0.05048999999999999,0.05057,0.05057,0.05057,0.050589999999999996,0.050609999999999995,0.050629999999999994,0.050629999999999994,0.050629999999999994,0.05070999999999999,0.05086999999999999,0.050949999999999995,0.050949999999999995,0.050949999999999995,0.050969999999999994,0.050989999999999994,0.05100999999999999,0.05100999999999999,0.05100999999999999,0.05108999999999999,0.05124999999999999,0.051329999999999994,0.051329999999999994,0.051329999999999994,0.05134999999999999,0.05136999999999999,0.05138999999999999,0.05138999999999999,0.05138999999999999,0.05146999999999999,0.05162999999999999,0.05170999999999999,0.05170999999999999,0.05170999999999999,0.05172999999999999,0.05174999999999999,0.05176999999999999,0.05176999999999999,0.05176999999999999,0.051849999999999986,0.05200999999999999,0.05208999999999999,0.05208999999999999,0.05208999999999999,0.05210999999999999,0.05212999999999999,0.05214999999999999,0.05214999999999999,0.05214999999999999,0.052229999999999985,0.052389999999999985,0.05246999999999999,0.05246999999999999,0.05246999999999999,0.05248999999999999,0.05250999999999999,0.052529999999999986,0.052529999999999986,0.052529999999999986,0.05260999999999998,0.052769999999999984,0.05284999999999999,0.05284999999999999,0.05284999999999999,0.052869999999999986,0.052889999999999986,0.052909999999999985,0.052909999999999985,0.052909999999999985,0.05298999999999998,0.05314999999999998,0.053229999999999986,0.053229999999999986,0.053229999999999986,0.053249999999999985,0.053269999999999984,0.05328999999999998,0.05328999999999998,0.05328999999999998,0.05336999999999998,0.05352999999999998,0.053609999999999984,0.053609999999999984,0.053609999999999984,0.05362999999999998,0.05364999999999998,0.05366999999999998,0.05366999999999998,0.05366999999999998,0.05374999999999998,0.05390999999999998,0.05398999999999998,0.05398999999999998,0.05398999999999998,0.05400999999999998,0.05402999999999998,0.05404999999999998,0.05404999999999998,0.05404999999999998,0.05412999999999998,0.05428999999999998,0.05436999999999998,0.05436999999999998,0.05436999999999998,0.05438999999999998,0.05440999999999998,0.05442999999999998],\"y\":[0.0,0.0,0.0,0.0,0.0,0.0,0.0,0.0,0.0,0.0,-0.0,-0.0,-0.0,-0.0,-0.0,0.0,0.0,0.0,0.0,0.0,0.0,0.0,0.0,0.0,0.0,0.0,0.0,0.0,0.0,0.0,-0.0,-0.0,-0.0,-0.0,-0.0,0.0,0.0,0.0,0.0,0.0,0.0,0.0,0.0,0.0,0.0,0.0,0.0,0.0,0.0,0.0,-0.0,-0.0,-0.0,-0.0,-0.0,0.0,0.0,0.0,0.0,0.0,0.0,0.0,0.0,0.0,0.0,0.0,0.0,0.0,0.0,0.0,-0.0,-0.0,-0.0,-0.0,-0.0,0.0,0.0,0.0,0.0,0.0,0.0,0.0,0.0,0.0,0.0,0.0,0.0,0.0,0.0,0.0,-0.0,-0.0,-0.0,-0.0,-0.0,0.0,0.0,0.0,0.0,0.0,0.0,0.0,0.0,0.0,0.0,0.0,0.0,0.0,0.0,0.0,-0.0,-0.0,-0.0,-0.0,-0.0,0.0,0.0,0.0,0.0,0.0,0.0,0.0,0.0,0.0,0.0,0.0,0.0,0.0,0.0,0.0,-0.0,-0.0,-0.0,-0.0,-0.0,0.0,0.0,0.0,0.0,0.0,0.0,0.0,0.0,0.0,0.0,0.0,0.0,0.0,0.0,0.0,-0.0,-0.0,-0.0,-0.0,-0.0,0.0,0.0,0.0,0.0,0.0],\"type\":\"scatter\",\"xaxis\":\"x6\",\"yaxis\":\"y6\"}],                        {\"template\":{\"data\":{\"histogram2dcontour\":[{\"type\":\"histogram2dcontour\",\"colorbar\":{\"outlinewidth\":0,\"ticks\":\"\"},\"colorscale\":[[0.0,\"#0d0887\"],[0.1111111111111111,\"#46039f\"],[0.2222222222222222,\"#7201a8\"],[0.3333333333333333,\"#9c179e\"],[0.4444444444444444,\"#bd3786\"],[0.5555555555555556,\"#d8576b\"],[0.6666666666666666,\"#ed7953\"],[0.7777777777777778,\"#fb9f3a\"],[0.8888888888888888,\"#fdca26\"],[1.0,\"#f0f921\"]]}],\"choropleth\":[{\"type\":\"choropleth\",\"colorbar\":{\"outlinewidth\":0,\"ticks\":\"\"}}],\"histogram2d\":[{\"type\":\"histogram2d\",\"colorbar\":{\"outlinewidth\":0,\"ticks\":\"\"},\"colorscale\":[[0.0,\"#0d0887\"],[0.1111111111111111,\"#46039f\"],[0.2222222222222222,\"#7201a8\"],[0.3333333333333333,\"#9c179e\"],[0.4444444444444444,\"#bd3786\"],[0.5555555555555556,\"#d8576b\"],[0.6666666666666666,\"#ed7953\"],[0.7777777777777778,\"#fb9f3a\"],[0.8888888888888888,\"#fdca26\"],[1.0,\"#f0f921\"]]}],\"heatmap\":[{\"type\":\"heatmap\",\"colorbar\":{\"outlinewidth\":0,\"ticks\":\"\"},\"colorscale\":[[0.0,\"#0d0887\"],[0.1111111111111111,\"#46039f\"],[0.2222222222222222,\"#7201a8\"],[0.3333333333333333,\"#9c179e\"],[0.4444444444444444,\"#bd3786\"],[0.5555555555555556,\"#d8576b\"],[0.6666666666666666,\"#ed7953\"],[0.7777777777777778,\"#fb9f3a\"],[0.8888888888888888,\"#fdca26\"],[1.0,\"#f0f921\"]]}],\"heatmapgl\":[{\"type\":\"heatmapgl\",\"colorbar\":{\"outlinewidth\":0,\"ticks\":\"\"},\"colorscale\":[[0.0,\"#0d0887\"],[0.1111111111111111,\"#46039f\"],[0.2222222222222222,\"#7201a8\"],[0.3333333333333333,\"#9c179e\"],[0.4444444444444444,\"#bd3786\"],[0.5555555555555556,\"#d8576b\"],[0.6666666666666666,\"#ed7953\"],[0.7777777777777778,\"#fb9f3a\"],[0.8888888888888888,\"#fdca26\"],[1.0,\"#f0f921\"]]}],\"contourcarpet\":[{\"type\":\"contourcarpet\",\"colorbar\":{\"outlinewidth\":0,\"ticks\":\"\"}}],\"contour\":[{\"type\":\"contour\",\"colorbar\":{\"outlinewidth\":0,\"ticks\":\"\"},\"colorscale\":[[0.0,\"#0d0887\"],[0.1111111111111111,\"#46039f\"],[0.2222222222222222,\"#7201a8\"],[0.3333333333333333,\"#9c179e\"],[0.4444444444444444,\"#bd3786\"],[0.5555555555555556,\"#d8576b\"],[0.6666666666666666,\"#ed7953\"],[0.7777777777777778,\"#fb9f3a\"],[0.8888888888888888,\"#fdca26\"],[1.0,\"#f0f921\"]]}],\"surface\":[{\"type\":\"surface\",\"colorbar\":{\"outlinewidth\":0,\"ticks\":\"\"},\"colorscale\":[[0.0,\"#0d0887\"],[0.1111111111111111,\"#46039f\"],[0.2222222222222222,\"#7201a8\"],[0.3333333333333333,\"#9c179e\"],[0.4444444444444444,\"#bd3786\"],[0.5555555555555556,\"#d8576b\"],[0.6666666666666666,\"#ed7953\"],[0.7777777777777778,\"#fb9f3a\"],[0.8888888888888888,\"#fdca26\"],[1.0,\"#f0f921\"]]}],\"mesh3d\":[{\"type\":\"mesh3d\",\"colorbar\":{\"outlinewidth\":0,\"ticks\":\"\"}}],\"scatter\":[{\"fillpattern\":{\"fillmode\":\"overlay\",\"size\":10,\"solidity\":0.2},\"type\":\"scatter\"}],\"parcoords\":[{\"type\":\"parcoords\",\"line\":{\"colorbar\":{\"outlinewidth\":0,\"ticks\":\"\"}}}],\"scatterpolargl\":[{\"type\":\"scatterpolargl\",\"marker\":{\"colorbar\":{\"outlinewidth\":0,\"ticks\":\"\"}}}],\"bar\":[{\"error_x\":{\"color\":\"#2a3f5f\"},\"error_y\":{\"color\":\"#2a3f5f\"},\"marker\":{\"line\":{\"color\":\"#E5ECF6\",\"width\":0.5},\"pattern\":{\"fillmode\":\"overlay\",\"size\":10,\"solidity\":0.2}},\"type\":\"bar\"}],\"scattergeo\":[{\"type\":\"scattergeo\",\"marker\":{\"colorbar\":{\"outlinewidth\":0,\"ticks\":\"\"}}}],\"scatterpolar\":[{\"type\":\"scatterpolar\",\"marker\":{\"colorbar\":{\"outlinewidth\":0,\"ticks\":\"\"}}}],\"histogram\":[{\"marker\":{\"pattern\":{\"fillmode\":\"overlay\",\"size\":10,\"solidity\":0.2}},\"type\":\"histogram\"}],\"scattergl\":[{\"type\":\"scattergl\",\"marker\":{\"colorbar\":{\"outlinewidth\":0,\"ticks\":\"\"}}}],\"scatter3d\":[{\"type\":\"scatter3d\",\"line\":{\"colorbar\":{\"outlinewidth\":0,\"ticks\":\"\"}},\"marker\":{\"colorbar\":{\"outlinewidth\":0,\"ticks\":\"\"}}}],\"scattermapbox\":[{\"type\":\"scattermapbox\",\"marker\":{\"colorbar\":{\"outlinewidth\":0,\"ticks\":\"\"}}}],\"scatterternary\":[{\"type\":\"scatterternary\",\"marker\":{\"colorbar\":{\"outlinewidth\":0,\"ticks\":\"\"}}}],\"scattercarpet\":[{\"type\":\"scattercarpet\",\"marker\":{\"colorbar\":{\"outlinewidth\":0,\"ticks\":\"\"}}}],\"carpet\":[{\"aaxis\":{\"endlinecolor\":\"#2a3f5f\",\"gridcolor\":\"white\",\"linecolor\":\"white\",\"minorgridcolor\":\"white\",\"startlinecolor\":\"#2a3f5f\"},\"baxis\":{\"endlinecolor\":\"#2a3f5f\",\"gridcolor\":\"white\",\"linecolor\":\"white\",\"minorgridcolor\":\"white\",\"startlinecolor\":\"#2a3f5f\"},\"type\":\"carpet\"}],\"table\":[{\"cells\":{\"fill\":{\"color\":\"#EBF0F8\"},\"line\":{\"color\":\"white\"}},\"header\":{\"fill\":{\"color\":\"#C8D4E3\"},\"line\":{\"color\":\"white\"}},\"type\":\"table\"}],\"barpolar\":[{\"marker\":{\"line\":{\"color\":\"#E5ECF6\",\"width\":0.5},\"pattern\":{\"fillmode\":\"overlay\",\"size\":10,\"solidity\":0.2}},\"type\":\"barpolar\"}],\"pie\":[{\"automargin\":true,\"type\":\"pie\"}]},\"layout\":{\"autotypenumbers\":\"strict\",\"colorway\":[\"#636efa\",\"#EF553B\",\"#00cc96\",\"#ab63fa\",\"#FFA15A\",\"#19d3f3\",\"#FF6692\",\"#B6E880\",\"#FF97FF\",\"#FECB52\"],\"font\":{\"color\":\"#2a3f5f\"},\"hovermode\":\"closest\",\"hoverlabel\":{\"align\":\"left\"},\"paper_bgcolor\":\"white\",\"plot_bgcolor\":\"#E5ECF6\",\"polar\":{\"bgcolor\":\"#E5ECF6\",\"angularaxis\":{\"gridcolor\":\"white\",\"linecolor\":\"white\",\"ticks\":\"\"},\"radialaxis\":{\"gridcolor\":\"white\",\"linecolor\":\"white\",\"ticks\":\"\"}},\"ternary\":{\"bgcolor\":\"#E5ECF6\",\"aaxis\":{\"gridcolor\":\"white\",\"linecolor\":\"white\",\"ticks\":\"\"},\"baxis\":{\"gridcolor\":\"white\",\"linecolor\":\"white\",\"ticks\":\"\"},\"caxis\":{\"gridcolor\":\"white\",\"linecolor\":\"white\",\"ticks\":\"\"}},\"coloraxis\":{\"colorbar\":{\"outlinewidth\":0,\"ticks\":\"\"}},\"colorscale\":{\"sequential\":[[0.0,\"#0d0887\"],[0.1111111111111111,\"#46039f\"],[0.2222222222222222,\"#7201a8\"],[0.3333333333333333,\"#9c179e\"],[0.4444444444444444,\"#bd3786\"],[0.5555555555555556,\"#d8576b\"],[0.6666666666666666,\"#ed7953\"],[0.7777777777777778,\"#fb9f3a\"],[0.8888888888888888,\"#fdca26\"],[1.0,\"#f0f921\"]],\"sequentialminus\":[[0.0,\"#0d0887\"],[0.1111111111111111,\"#46039f\"],[0.2222222222222222,\"#7201a8\"],[0.3333333333333333,\"#9c179e\"],[0.4444444444444444,\"#bd3786\"],[0.5555555555555556,\"#d8576b\"],[0.6666666666666666,\"#ed7953\"],[0.7777777777777778,\"#fb9f3a\"],[0.8888888888888888,\"#fdca26\"],[1.0,\"#f0f921\"]],\"diverging\":[[0,\"#8e0152\"],[0.1,\"#c51b7d\"],[0.2,\"#de77ae\"],[0.3,\"#f1b6da\"],[0.4,\"#fde0ef\"],[0.5,\"#f7f7f7\"],[0.6,\"#e6f5d0\"],[0.7,\"#b8e186\"],[0.8,\"#7fbc41\"],[0.9,\"#4d9221\"],[1,\"#276419\"]]},\"xaxis\":{\"gridcolor\":\"white\",\"linecolor\":\"white\",\"ticks\":\"\",\"title\":{\"standoff\":15},\"zerolinecolor\":\"white\",\"automargin\":true,\"zerolinewidth\":2},\"yaxis\":{\"gridcolor\":\"white\",\"linecolor\":\"white\",\"ticks\":\"\",\"title\":{\"standoff\":15},\"zerolinecolor\":\"white\",\"automargin\":true,\"zerolinewidth\":2},\"scene\":{\"xaxis\":{\"backgroundcolor\":\"#E5ECF6\",\"gridcolor\":\"white\",\"linecolor\":\"white\",\"showbackground\":true,\"ticks\":\"\",\"zerolinecolor\":\"white\",\"gridwidth\":2},\"yaxis\":{\"backgroundcolor\":\"#E5ECF6\",\"gridcolor\":\"white\",\"linecolor\":\"white\",\"showbackground\":true,\"ticks\":\"\",\"zerolinecolor\":\"white\",\"gridwidth\":2},\"zaxis\":{\"backgroundcolor\":\"#E5ECF6\",\"gridcolor\":\"white\",\"linecolor\":\"white\",\"showbackground\":true,\"ticks\":\"\",\"zerolinecolor\":\"white\",\"gridwidth\":2}},\"shapedefaults\":{\"line\":{\"color\":\"#2a3f5f\"}},\"annotationdefaults\":{\"arrowcolor\":\"#2a3f5f\",\"arrowhead\":0,\"arrowwidth\":1},\"geo\":{\"bgcolor\":\"white\",\"landcolor\":\"#E5ECF6\",\"subunitcolor\":\"white\",\"showland\":true,\"showlakes\":true,\"lakecolor\":\"white\"},\"title\":{\"x\":0.05},\"mapbox\":{\"style\":\"light\"}}},\"xaxis\":{\"anchor\":\"y\",\"domain\":[0.0,0.45],\"matches\":\"x5\",\"showticklabels\":false},\"yaxis\":{\"anchor\":\"x\",\"domain\":[0.7777777777777778,1.0],\"title\":{\"text\":\"[Hz]\"}},\"xaxis2\":{\"anchor\":\"y2\",\"domain\":[0.55,1.0],\"matches\":\"x5\",\"showticklabels\":false},\"yaxis2\":{\"anchor\":\"x2\",\"domain\":[0.7777777777777778,1.0]},\"xaxis3\":{\"anchor\":\"y3\",\"domain\":[0.0,0.45],\"matches\":\"x5\",\"showticklabels\":false},\"yaxis3\":{\"anchor\":\"x3\",\"domain\":[0.3888888888888889,0.6111111111111112],\"title\":{\"text\":\"[rads]\"}},\"xaxis4\":{\"anchor\":\"y4\",\"domain\":[0.55,1.0],\"matches\":\"x5\",\"showticklabels\":false},\"yaxis4\":{\"anchor\":\"x4\",\"domain\":[0.3888888888888889,0.6111111111111112]},\"xaxis5\":{\"anchor\":\"y5\",\"domain\":[0.0,0.45],\"title\":{\"text\":\"Time (seconds)\"},\"range\":[0.04,0.1]},\"yaxis5\":{\"anchor\":\"x5\",\"domain\":[0.0,0.22222222222222224],\"title\":{\"text\":\"[rads]\"}},\"xaxis6\":{\"anchor\":\"y6\",\"domain\":[0.55,1.0],\"matches\":\"x5\",\"title\":{\"text\":\"Time (seconds)\"},\"range\":[0.04,0.1]},\"yaxis6\":{\"anchor\":\"x6\",\"domain\":[0.0,0.22222222222222224]},\"annotations\":[{\"font\":{\"size\":16},\"showarrow\":false,\"text\":\"RF magnitude\",\"x\":0.225,\"xanchor\":\"center\",\"xref\":\"paper\",\"y\":1.0,\"yanchor\":\"bottom\",\"yref\":\"paper\"},{\"font\":{\"size\":16},\"showarrow\":false,\"text\":\"Gx\",\"x\":0.775,\"xanchor\":\"center\",\"xref\":\"paper\",\"y\":1.0,\"yanchor\":\"bottom\",\"yref\":\"paper\"},{\"font\":{\"size\":16},\"showarrow\":false,\"text\":\"RF phase\",\"x\":0.225,\"xanchor\":\"center\",\"xref\":\"paper\",\"y\":0.6111111111111112,\"yanchor\":\"bottom\",\"yref\":\"paper\"},{\"font\":{\"size\":16},\"showarrow\":false,\"text\":\"Gy\",\"x\":0.775,\"xanchor\":\"center\",\"xref\":\"paper\",\"y\":0.6111111111111112,\"yanchor\":\"bottom\",\"yref\":\"paper\"},{\"font\":{\"size\":16},\"showarrow\":false,\"text\":\"ADC\",\"x\":0.225,\"xanchor\":\"center\",\"xref\":\"paper\",\"y\":0.22222222222222224,\"yanchor\":\"bottom\",\"yref\":\"paper\"},{\"font\":{\"size\":16},\"showarrow\":false,\"text\":\"Gz\",\"x\":0.775,\"xanchor\":\"center\",\"xref\":\"paper\",\"y\":0.22222222222222224,\"yanchor\":\"bottom\",\"yref\":\"paper\"}]},                        {\"responsive\": true}                    ).then(function(){\n",
              "                            \n",
              "var gd = document.getElementById('23a1d484-9fed-4959-9345-c02bbc151c30');\n",
              "var x = new MutationObserver(function (mutations, observer) {{\n",
              "        var display = window.getComputedStyle(gd).display;\n",
              "        if (!display || display === 'none') {{\n",
              "            console.log([gd, 'removed!']);\n",
              "            Plotly.purge(gd);\n",
              "            observer.disconnect();\n",
              "        }}\n",
              "}});\n",
              "\n",
              "// Listen for the removal of the full notebook cells\n",
              "var notebookContainer = gd.closest('#notebook-container');\n",
              "if (notebookContainer) {{\n",
              "    x.observe(notebookContainer, {childList: true});\n",
              "}}\n",
              "\n",
              "// Listen for the clearing of the current output cell\n",
              "var outputEl = gd.closest('.output');\n",
              "if (outputEl) {{\n",
              "    x.observe(outputEl, {childList: true});\n",
              "}}\n",
              "\n",
              "                        })                };                            </script>        </div>\n",
              "</body>\n",
              "</html>"
            ]
          },
          "metadata": {}
        }
      ]
    },
    {
      "cell_type": "markdown",
      "source": [
        "# Make a phantom and inspect it\n"
      ],
      "metadata": {
        "id": "6nzzyL9PwPpT"
      }
    },
    {
      "cell_type": "code",
      "source": [
        "#@title Phantom Options\n",
        "\n",
        "#@markdown Choose your phantom type and then skip to the corresponding section\n",
        "#@markdown for the next steps.\n",
        "\n",
        "phantom_type = \"Default\" #@param [\"Default\",\"Custom\"]\n",
        "\n",
        "#@markdown # Default Phantom \n",
        "#@markdown One of the three planes of the default cylindrical phantom may be selected.\n",
        "#@markdown Choose your own parameters and\n",
        "#@markdown then run the cell to display the phantom maps. \n",
        "\n",
        "if phantom_type == \"Default\":\n",
        "  zi = 0\n",
        "  #@markdown The phantom background has PD = 0 and the main cylindrical fill has \n",
        "  #@markdown T1 = 500 ms, T2 = 100 ms, and PD = 1. The same default values are also used for\n",
        "  #@markdown the contrast sphere for the non-varying parameters. For example, \n",
        "  #@markdown T1 = 500 ms and T2 = 100 ms are used for the PD plane where only PD varies\n",
        "  #@markdown among the spheres.\n",
        "\n",
        "  plane_option = \"T2\" #@param [\"T1\",\"T2\",\"PD\"]\n",
        "  phantom_matrix_size =  16#@param {type:\"integer\"}\n",
        "  # Phantom size\n",
        "  Npht = phantom_matrix_size \n",
        "  FOV = 0.25\n",
        "  #@markdown **T1 plane** (4 spheres)\n",
        "  T1a = 1.5 #@param {type:\"number\"}\n",
        "  T1b = 0.6 #@param {type:\"number\"}\n",
        "  T1c = 0.25 #@param {type:\"number\"}\n",
        "  T1d = 0.1 #@param {type:\"number\"}\n",
        "\n",
        "  #@markdown **T2 plane** (4 spheres)\n",
        "  T2a =  1#@param {type:\"number\"}\n",
        "  T2b = 0.5 #@param {type:\"number\"}\n",
        "  T2c = 0.08 #@param {type:\"number\"}\n",
        "  T2d = 0.01 #@param {type:\"number\"}\n",
        "\n",
        "  #@markdown **PD plane** (3 spheres)\n",
        "  PDa =  1#@param {type:\"number\"}\n",
        "  PDb = 0.75 #@param {type:\"number\"}\n",
        "  PDc = 0.5 #@param {type:\"number\"}\n",
        "\n",
        "  # Phantom parameters \n",
        "  T1T2PD0 = [0.5,0.05,1] # Default values \n",
        "  T1T2PD1 = [0.5,0.05,1] # Main cylinder fill  \n",
        "\n",
        "  # The following have been customized \n",
        "  PDs = [PDa,PDb,PDc]\n",
        "  T1s = [T1a,T1b,T1c,T1d]\n",
        "  T2s = [T2a,T2b,T2c,T2d]\n",
        "\n",
        "  if plane_option == 'T1':\n",
        "    p = pht.makeCustomCylindricalPhantom(T1T2PD0, PDs, T1s, T2s, T1T2PD1=T1T2PD1, dim=2, n=Npht, dir='z', loc=0, fov=FOV)\n",
        "  elif plane_option == 'T2':\n",
        "    p = pht.makeCustomCylindricalPhantom(T1T2PD0, PDs, T1s, T2s, T1T2PD1=T1T2PD1, dim=2, n=Npht, dir='z', loc=-FOV/3, fov=FOV)\n",
        "    p.loc = (0,0,0)\n",
        "    p.Zs = [0]\n",
        "  elif plane_option == 'PD':\n",
        "    p = pht.makeCustomCylindricalPhantom(T1T2PD0, PDs, T1s, T2s, T1T2PD1=T1T2PD1, dim=2, n=Npht, dir='z', loc=FOV/3, fov=FOV)\n",
        "    p.loc = (0,0,0)\n",
        "    p.Zs = [0]\n",
        "  \n",
        "#@markdown After entering the desired parameters, run this cell. \n",
        "#@markdown The phantom will be constructed and displayed. \n",
        "\n",
        "#@markdown # Custom Phantom\n",
        "\n",
        "#@markdown First, choose voxel size in millimeters:\n",
        "vsize = 1 #@param {type:\"number\"}\n",
        "\n",
        "#@markdown Then, run this cell. When prompted, upload a .mat file with the following matrices:\n",
        "#@markdown * T1map (seconds)\n",
        "#@markdown * T2map (seconds)\n",
        "#@markdown * PDmap (arbitrary unit)\n",
        "\n",
        "#@markdown All three matrices should be the same size and have three dimensions (x,y,z). \n",
        "#@markdown The phantom will then be constructed. If you are using a 3D phantom, \n",
        "#@markdown please choose the z (3rd) index for the 2D display, happening next.  \n",
        "\n",
        "if phantom_type == \"Custom\":\n",
        "    z_index = 1 #@param \n",
        "    zi = z_index - 1 \n",
        "    uploaded = files.upload()\n",
        "    matpath = list(uploaded.keys())[0]\n",
        "    t1map = loadmat(matpath)['T1map']\n",
        "    t2map = loadmat(matpath)['T2map']\n",
        "    pdmap = loadmat(matpath)['PDmap']\n",
        "\n",
        "    p = pht.Phantom(T1map=t1map,T2map=t2map,PDmap=pdmap,vsize=vsize,dBmap=0)\n",
        "\n",
        "#@markdown The phantom will be displayed after loading."
      ],
      "metadata": {
        "id": "mbIWvcpu8VyI",
        "colab": {
          "base_uri": "https://localhost:8080/"
        },
        "cellView": "form",
        "outputId": "cdd83064-a6d5-4379-d015-b634aa4ba0cd"
      },
      "execution_count": null,
      "outputs": [
        {
          "output_type": "stream",
          "name": "stdout",
          "text": [
            "<class 'numpy.ndarray'>\n"
          ]
        }
      ]
    },
    {
      "cell_type": "markdown",
      "source": [
        "# Display phantom maps\n",
        "Run the cell to display the T1, T2 and PD maps of the phantom for closer inspection. Note that the default phantom is always a 2D plane  "
      ],
      "metadata": {
        "id": "U4xq6krVvv5n"
      }
    },
    {
      "cell_type": "code",
      "source": [
        "display_vs_phantom(p,zi)"
      ],
      "metadata": {
        "colab": {
          "base_uri": "https://localhost:8080/",
          "height": 542
        },
        "id": "J4Rlxq1ovuNy",
        "outputId": "a255322a-e3cc-4f61-a2e3-7607a8d23a47"
      },
      "execution_count": null,
      "outputs": [
        {
          "output_type": "display_data",
          "data": {
            "text/html": [
              "<html>\n",
              "<head><meta charset=\"utf-8\" /></head>\n",
              "<body>\n",
              "    <div>            <script src=\"https://cdnjs.cloudflare.com/ajax/libs/mathjax/2.7.5/MathJax.js?config=TeX-AMS-MML_SVG\"></script><script type=\"text/javascript\">if (window.MathJax) {MathJax.Hub.Config({SVG: {font: \"STIX-Web\"}});}</script>                <script type=\"text/javascript\">window.PlotlyConfig = {MathJaxConfig: 'local'};</script>\n",
              "        <script src=\"https://cdn.plot.ly/plotly-2.11.1.min.js\"></script>                <div id=\"eafd3f3b-7262-45a5-8106-6d6d7644426f\" class=\"plotly-graph-div\" style=\"height:525px; width:100%;\"></div>            <script type=\"text/javascript\">                                    window.PLOTLYENV=window.PLOTLYENV || {};                                    if (document.getElementById(\"eafd3f3b-7262-45a5-8106-6d6d7644426f\")) {                    Plotly.newPlot(                        \"eafd3f3b-7262-45a5-8106-6d6d7644426f\",                        [{\"colorbar\":{\"len\":1.05,\"x\":0.3},\"z\":[[0.0,0.0,0.0,0.0,0.0,0.5,0.5,0.5,0.5,0.5,0.5,0.0,0.0,0.0,0.0,0.0],[0.0,0.0,0.0,0.5,0.5,0.5,0.5,0.5,0.5,0.5,0.5,0.5,0.5,0.0,0.0,0.0],[0.0,0.0,0.5,0.5,0.5,0.5,0.5,0.5,0.5,0.5,0.5,0.5,0.5,0.5,0.0,0.0],[0.0,0.5,0.5,0.5,0.5,0.5,0.5,0.5,0.5,0.5,0.5,0.5,0.5,0.5,0.5,0.0],[0.0,0.5,0.5,0.5,0.5,0.5,0.5,0.5,0.5,0.5,0.5,0.5,0.5,0.5,0.5,0.0],[0.5,0.5,0.5,0.5,0.5,0.5,0.5,0.5,0.5,0.5,0.5,0.5,0.5,0.5,0.5,0.5],[0.5,0.5,0.5,0.5,0.5,0.5,0.5,0.5,0.5,0.5,0.5,0.5,0.5,0.5,0.5,0.5],[0.5,0.5,0.5,0.5,0.5,0.5,0.5,0.5,0.5,0.5,0.5,0.5,0.5,0.5,0.5,0.5],[0.5,0.5,0.5,0.5,0.5,0.5,0.5,0.5,0.5,0.5,0.5,0.5,0.5,0.5,0.5,0.5],[0.5,0.5,0.5,0.5,0.5,0.5,0.5,0.5,0.5,0.5,0.5,0.5,0.5,0.5,0.5,0.5],[0.5,0.5,0.5,0.5,0.5,0.5,0.5,0.5,0.5,0.5,0.5,0.5,0.5,0.5,0.5,0.5],[0.0,0.5,0.5,0.5,0.5,0.5,0.5,0.5,0.5,0.5,0.5,0.5,0.5,0.5,0.5,0.0],[0.0,0.5,0.5,0.5,0.5,0.5,0.5,0.5,0.5,0.5,0.5,0.5,0.5,0.5,0.5,0.0],[0.0,0.0,0.5,0.5,0.5,0.5,0.5,0.5,0.5,0.5,0.5,0.5,0.5,0.5,0.0,0.0],[0.0,0.0,0.0,0.5,0.5,0.5,0.5,0.5,0.5,0.5,0.5,0.5,0.5,0.0,0.0,0.0],[0.0,0.0,0.0,0.0,0.0,0.5,0.5,0.5,0.5,0.5,0.5,0.0,0.0,0.0,0.0,0.0]],\"type\":\"heatmap\",\"xaxis\":\"x\",\"yaxis\":\"y\"},{\"colorbar\":{\"len\":1.05,\"x\":0.65},\"z\":[[0.0,0.0,0.0,0.0,0.0,0.05,0.05,0.05,0.05,0.05,0.05,0.0,0.0,0.0,0.0,0.0],[0.0,0.0,0.0,0.05,0.05,0.05,0.05,0.05,0.05,0.05,0.05,0.05,0.05,0.0,0.0,0.0],[0.0,0.0,0.05,0.05,0.05,0.05,0.05,0.5,0.5,0.05,0.05,0.05,0.05,0.05,0.0,0.0],[0.0,0.05,0.05,0.05,0.05,0.05,0.5,0.5,0.5,0.5,0.05,0.05,0.05,0.05,0.05,0.0],[0.0,0.05,0.05,0.05,0.05,0.05,0.5,0.5,0.5,0.5,0.05,0.05,0.05,0.05,0.05,0.0],[0.05,0.05,0.05,0.05,0.05,0.05,0.05,0.5,0.5,0.05,0.05,0.05,0.05,0.05,0.05,0.05],[0.05,0.05,0.05,0.08,0.08,0.05,0.05,0.05,0.05,0.05,0.05,1.0,1.0,0.05,0.05,0.05],[0.05,0.05,0.08,0.08,0.08,0.08,0.05,0.05,0.05,0.05,1.0,1.0,1.0,1.0,0.05,0.05],[0.05,0.05,0.08,0.08,0.08,0.08,0.05,0.05,0.05,0.05,1.0,1.0,1.0,1.0,0.05,0.05],[0.05,0.05,0.05,0.08,0.08,0.05,0.05,0.05,0.05,0.05,0.05,1.0,1.0,0.05,0.05,0.05],[0.05,0.05,0.05,0.05,0.05,0.05,0.05,0.01,0.01,0.05,0.05,0.05,0.05,0.05,0.05,0.05],[0.0,0.05,0.05,0.05,0.05,0.05,0.01,0.01,0.01,0.01,0.05,0.05,0.05,0.05,0.05,0.0],[0.0,0.05,0.05,0.05,0.05,0.05,0.01,0.01,0.01,0.01,0.05,0.05,0.05,0.05,0.05,0.0],[0.0,0.0,0.05,0.05,0.05,0.05,0.05,0.01,0.01,0.05,0.05,0.05,0.05,0.05,0.0,0.0],[0.0,0.0,0.0,0.05,0.05,0.05,0.05,0.05,0.05,0.05,0.05,0.05,0.05,0.0,0.0,0.0],[0.0,0.0,0.0,0.0,0.0,0.05,0.05,0.05,0.05,0.05,0.05,0.0,0.0,0.0,0.0,0.0]],\"type\":\"heatmap\",\"xaxis\":\"x2\",\"yaxis\":\"y2\"},{\"colorbar\":{\"len\":1.05,\"x\":1},\"z\":[[0.0,0.0,0.0,0.0,0.0,1.0,1.0,1.0,1.0,1.0,1.0,0.0,0.0,0.0,0.0,0.0],[0.0,0.0,0.0,1.0,1.0,1.0,1.0,1.0,1.0,1.0,1.0,1.0,1.0,0.0,0.0,0.0],[0.0,0.0,1.0,1.0,1.0,1.0,1.0,1.0,1.0,1.0,1.0,1.0,1.0,1.0,0.0,0.0],[0.0,1.0,1.0,1.0,1.0,1.0,1.0,1.0,1.0,1.0,1.0,1.0,1.0,1.0,1.0,0.0],[0.0,1.0,1.0,1.0,1.0,1.0,1.0,1.0,1.0,1.0,1.0,1.0,1.0,1.0,1.0,0.0],[1.0,1.0,1.0,1.0,1.0,1.0,1.0,1.0,1.0,1.0,1.0,1.0,1.0,1.0,1.0,1.0],[1.0,1.0,1.0,1.0,1.0,1.0,1.0,1.0,1.0,1.0,1.0,1.0,1.0,1.0,1.0,1.0],[1.0,1.0,1.0,1.0,1.0,1.0,1.0,1.0,1.0,1.0,1.0,1.0,1.0,1.0,1.0,1.0],[1.0,1.0,1.0,1.0,1.0,1.0,1.0,1.0,1.0,1.0,1.0,1.0,1.0,1.0,1.0,1.0],[1.0,1.0,1.0,1.0,1.0,1.0,1.0,1.0,1.0,1.0,1.0,1.0,1.0,1.0,1.0,1.0],[1.0,1.0,1.0,1.0,1.0,1.0,1.0,1.0,1.0,1.0,1.0,1.0,1.0,1.0,1.0,1.0],[0.0,1.0,1.0,1.0,1.0,1.0,1.0,1.0,1.0,1.0,1.0,1.0,1.0,1.0,1.0,0.0],[0.0,1.0,1.0,1.0,1.0,1.0,1.0,1.0,1.0,1.0,1.0,1.0,1.0,1.0,1.0,0.0],[0.0,0.0,1.0,1.0,1.0,1.0,1.0,1.0,1.0,1.0,1.0,1.0,1.0,1.0,0.0,0.0],[0.0,0.0,0.0,1.0,1.0,1.0,1.0,1.0,1.0,1.0,1.0,1.0,1.0,0.0,0.0,0.0],[0.0,0.0,0.0,0.0,0.0,1.0,1.0,1.0,1.0,1.0,1.0,0.0,0.0,0.0,0.0,0.0]],\"type\":\"heatmap\",\"xaxis\":\"x3\",\"yaxis\":\"y3\"}],                        {\"template\":{\"data\":{\"histogram2dcontour\":[{\"type\":\"histogram2dcontour\",\"colorbar\":{\"outlinewidth\":0,\"ticks\":\"\"},\"colorscale\":[[0.0,\"#0d0887\"],[0.1111111111111111,\"#46039f\"],[0.2222222222222222,\"#7201a8\"],[0.3333333333333333,\"#9c179e\"],[0.4444444444444444,\"#bd3786\"],[0.5555555555555556,\"#d8576b\"],[0.6666666666666666,\"#ed7953\"],[0.7777777777777778,\"#fb9f3a\"],[0.8888888888888888,\"#fdca26\"],[1.0,\"#f0f921\"]]}],\"choropleth\":[{\"type\":\"choropleth\",\"colorbar\":{\"outlinewidth\":0,\"ticks\":\"\"}}],\"histogram2d\":[{\"type\":\"histogram2d\",\"colorbar\":{\"outlinewidth\":0,\"ticks\":\"\"},\"colorscale\":[[0.0,\"#0d0887\"],[0.1111111111111111,\"#46039f\"],[0.2222222222222222,\"#7201a8\"],[0.3333333333333333,\"#9c179e\"],[0.4444444444444444,\"#bd3786\"],[0.5555555555555556,\"#d8576b\"],[0.6666666666666666,\"#ed7953\"],[0.7777777777777778,\"#fb9f3a\"],[0.8888888888888888,\"#fdca26\"],[1.0,\"#f0f921\"]]}],\"heatmap\":[{\"type\":\"heatmap\",\"colorbar\":{\"outlinewidth\":0,\"ticks\":\"\"},\"colorscale\":[[0.0,\"#0d0887\"],[0.1111111111111111,\"#46039f\"],[0.2222222222222222,\"#7201a8\"],[0.3333333333333333,\"#9c179e\"],[0.4444444444444444,\"#bd3786\"],[0.5555555555555556,\"#d8576b\"],[0.6666666666666666,\"#ed7953\"],[0.7777777777777778,\"#fb9f3a\"],[0.8888888888888888,\"#fdca26\"],[1.0,\"#f0f921\"]]}],\"heatmapgl\":[{\"type\":\"heatmapgl\",\"colorbar\":{\"outlinewidth\":0,\"ticks\":\"\"},\"colorscale\":[[0.0,\"#0d0887\"],[0.1111111111111111,\"#46039f\"],[0.2222222222222222,\"#7201a8\"],[0.3333333333333333,\"#9c179e\"],[0.4444444444444444,\"#bd3786\"],[0.5555555555555556,\"#d8576b\"],[0.6666666666666666,\"#ed7953\"],[0.7777777777777778,\"#fb9f3a\"],[0.8888888888888888,\"#fdca26\"],[1.0,\"#f0f921\"]]}],\"contourcarpet\":[{\"type\":\"contourcarpet\",\"colorbar\":{\"outlinewidth\":0,\"ticks\":\"\"}}],\"contour\":[{\"type\":\"contour\",\"colorbar\":{\"outlinewidth\":0,\"ticks\":\"\"},\"colorscale\":[[0.0,\"#0d0887\"],[0.1111111111111111,\"#46039f\"],[0.2222222222222222,\"#7201a8\"],[0.3333333333333333,\"#9c179e\"],[0.4444444444444444,\"#bd3786\"],[0.5555555555555556,\"#d8576b\"],[0.6666666666666666,\"#ed7953\"],[0.7777777777777778,\"#fb9f3a\"],[0.8888888888888888,\"#fdca26\"],[1.0,\"#f0f921\"]]}],\"surface\":[{\"type\":\"surface\",\"colorbar\":{\"outlinewidth\":0,\"ticks\":\"\"},\"colorscale\":[[0.0,\"#0d0887\"],[0.1111111111111111,\"#46039f\"],[0.2222222222222222,\"#7201a8\"],[0.3333333333333333,\"#9c179e\"],[0.4444444444444444,\"#bd3786\"],[0.5555555555555556,\"#d8576b\"],[0.6666666666666666,\"#ed7953\"],[0.7777777777777778,\"#fb9f3a\"],[0.8888888888888888,\"#fdca26\"],[1.0,\"#f0f921\"]]}],\"mesh3d\":[{\"type\":\"mesh3d\",\"colorbar\":{\"outlinewidth\":0,\"ticks\":\"\"}}],\"scatter\":[{\"fillpattern\":{\"fillmode\":\"overlay\",\"size\":10,\"solidity\":0.2},\"type\":\"scatter\"}],\"parcoords\":[{\"type\":\"parcoords\",\"line\":{\"colorbar\":{\"outlinewidth\":0,\"ticks\":\"\"}}}],\"scatterpolargl\":[{\"type\":\"scatterpolargl\",\"marker\":{\"colorbar\":{\"outlinewidth\":0,\"ticks\":\"\"}}}],\"bar\":[{\"error_x\":{\"color\":\"#2a3f5f\"},\"error_y\":{\"color\":\"#2a3f5f\"},\"marker\":{\"line\":{\"color\":\"#E5ECF6\",\"width\":0.5},\"pattern\":{\"fillmode\":\"overlay\",\"size\":10,\"solidity\":0.2}},\"type\":\"bar\"}],\"scattergeo\":[{\"type\":\"scattergeo\",\"marker\":{\"colorbar\":{\"outlinewidth\":0,\"ticks\":\"\"}}}],\"scatterpolar\":[{\"type\":\"scatterpolar\",\"marker\":{\"colorbar\":{\"outlinewidth\":0,\"ticks\":\"\"}}}],\"histogram\":[{\"marker\":{\"pattern\":{\"fillmode\":\"overlay\",\"size\":10,\"solidity\":0.2}},\"type\":\"histogram\"}],\"scattergl\":[{\"type\":\"scattergl\",\"marker\":{\"colorbar\":{\"outlinewidth\":0,\"ticks\":\"\"}}}],\"scatter3d\":[{\"type\":\"scatter3d\",\"line\":{\"colorbar\":{\"outlinewidth\":0,\"ticks\":\"\"}},\"marker\":{\"colorbar\":{\"outlinewidth\":0,\"ticks\":\"\"}}}],\"scattermapbox\":[{\"type\":\"scattermapbox\",\"marker\":{\"colorbar\":{\"outlinewidth\":0,\"ticks\":\"\"}}}],\"scatterternary\":[{\"type\":\"scatterternary\",\"marker\":{\"colorbar\":{\"outlinewidth\":0,\"ticks\":\"\"}}}],\"scattercarpet\":[{\"type\":\"scattercarpet\",\"marker\":{\"colorbar\":{\"outlinewidth\":0,\"ticks\":\"\"}}}],\"carpet\":[{\"aaxis\":{\"endlinecolor\":\"#2a3f5f\",\"gridcolor\":\"white\",\"linecolor\":\"white\",\"minorgridcolor\":\"white\",\"startlinecolor\":\"#2a3f5f\"},\"baxis\":{\"endlinecolor\":\"#2a3f5f\",\"gridcolor\":\"white\",\"linecolor\":\"white\",\"minorgridcolor\":\"white\",\"startlinecolor\":\"#2a3f5f\"},\"type\":\"carpet\"}],\"table\":[{\"cells\":{\"fill\":{\"color\":\"#EBF0F8\"},\"line\":{\"color\":\"white\"}},\"header\":{\"fill\":{\"color\":\"#C8D4E3\"},\"line\":{\"color\":\"white\"}},\"type\":\"table\"}],\"barpolar\":[{\"marker\":{\"line\":{\"color\":\"#E5ECF6\",\"width\":0.5},\"pattern\":{\"fillmode\":\"overlay\",\"size\":10,\"solidity\":0.2}},\"type\":\"barpolar\"}],\"pie\":[{\"automargin\":true,\"type\":\"pie\"}]},\"layout\":{\"autotypenumbers\":\"strict\",\"colorway\":[\"#636efa\",\"#EF553B\",\"#00cc96\",\"#ab63fa\",\"#FFA15A\",\"#19d3f3\",\"#FF6692\",\"#B6E880\",\"#FF97FF\",\"#FECB52\"],\"font\":{\"color\":\"#2a3f5f\"},\"hovermode\":\"closest\",\"hoverlabel\":{\"align\":\"left\"},\"paper_bgcolor\":\"white\",\"plot_bgcolor\":\"#E5ECF6\",\"polar\":{\"bgcolor\":\"#E5ECF6\",\"angularaxis\":{\"gridcolor\":\"white\",\"linecolor\":\"white\",\"ticks\":\"\"},\"radialaxis\":{\"gridcolor\":\"white\",\"linecolor\":\"white\",\"ticks\":\"\"}},\"ternary\":{\"bgcolor\":\"#E5ECF6\",\"aaxis\":{\"gridcolor\":\"white\",\"linecolor\":\"white\",\"ticks\":\"\"},\"baxis\":{\"gridcolor\":\"white\",\"linecolor\":\"white\",\"ticks\":\"\"},\"caxis\":{\"gridcolor\":\"white\",\"linecolor\":\"white\",\"ticks\":\"\"}},\"coloraxis\":{\"colorbar\":{\"outlinewidth\":0,\"ticks\":\"\"}},\"colorscale\":{\"sequential\":[[0.0,\"#0d0887\"],[0.1111111111111111,\"#46039f\"],[0.2222222222222222,\"#7201a8\"],[0.3333333333333333,\"#9c179e\"],[0.4444444444444444,\"#bd3786\"],[0.5555555555555556,\"#d8576b\"],[0.6666666666666666,\"#ed7953\"],[0.7777777777777778,\"#fb9f3a\"],[0.8888888888888888,\"#fdca26\"],[1.0,\"#f0f921\"]],\"sequentialminus\":[[0.0,\"#0d0887\"],[0.1111111111111111,\"#46039f\"],[0.2222222222222222,\"#7201a8\"],[0.3333333333333333,\"#9c179e\"],[0.4444444444444444,\"#bd3786\"],[0.5555555555555556,\"#d8576b\"],[0.6666666666666666,\"#ed7953\"],[0.7777777777777778,\"#fb9f3a\"],[0.8888888888888888,\"#fdca26\"],[1.0,\"#f0f921\"]],\"diverging\":[[0,\"#8e0152\"],[0.1,\"#c51b7d\"],[0.2,\"#de77ae\"],[0.3,\"#f1b6da\"],[0.4,\"#fde0ef\"],[0.5,\"#f7f7f7\"],[0.6,\"#e6f5d0\"],[0.7,\"#b8e186\"],[0.8,\"#7fbc41\"],[0.9,\"#4d9221\"],[1,\"#276419\"]]},\"xaxis\":{\"gridcolor\":\"white\",\"linecolor\":\"white\",\"ticks\":\"\",\"title\":{\"standoff\":15},\"zerolinecolor\":\"white\",\"automargin\":true,\"zerolinewidth\":2},\"yaxis\":{\"gridcolor\":\"white\",\"linecolor\":\"white\",\"ticks\":\"\",\"title\":{\"standoff\":15},\"zerolinecolor\":\"white\",\"automargin\":true,\"zerolinewidth\":2},\"scene\":{\"xaxis\":{\"backgroundcolor\":\"#E5ECF6\",\"gridcolor\":\"white\",\"linecolor\":\"white\",\"showbackground\":true,\"ticks\":\"\",\"zerolinecolor\":\"white\",\"gridwidth\":2},\"yaxis\":{\"backgroundcolor\":\"#E5ECF6\",\"gridcolor\":\"white\",\"linecolor\":\"white\",\"showbackground\":true,\"ticks\":\"\",\"zerolinecolor\":\"white\",\"gridwidth\":2},\"zaxis\":{\"backgroundcolor\":\"#E5ECF6\",\"gridcolor\":\"white\",\"linecolor\":\"white\",\"showbackground\":true,\"ticks\":\"\",\"zerolinecolor\":\"white\",\"gridwidth\":2}},\"shapedefaults\":{\"line\":{\"color\":\"#2a3f5f\"}},\"annotationdefaults\":{\"arrowcolor\":\"#2a3f5f\",\"arrowhead\":0,\"arrowwidth\":1},\"geo\":{\"bgcolor\":\"white\",\"landcolor\":\"#E5ECF6\",\"subunitcolor\":\"white\",\"showland\":true,\"showlakes\":true,\"lakecolor\":\"white\"},\"title\":{\"x\":0.05},\"mapbox\":{\"style\":\"light\"}}},\"xaxis\":{\"anchor\":\"y\",\"domain\":[0.0,0.2888888888888889],\"showticklabels\":false},\"yaxis\":{\"anchor\":\"x\",\"domain\":[0.0,1.0],\"showticklabels\":false},\"xaxis2\":{\"anchor\":\"y2\",\"domain\":[0.35555555555555557,0.6444444444444445],\"showticklabels\":false},\"yaxis2\":{\"anchor\":\"x2\",\"domain\":[0.0,1.0],\"showticklabels\":false},\"xaxis3\":{\"anchor\":\"y3\",\"domain\":[0.7111111111111111,1.0],\"showticklabels\":false},\"yaxis3\":{\"anchor\":\"x3\",\"domain\":[0.0,1.0],\"showticklabels\":false},\"annotations\":[{\"font\":{\"size\":16},\"showarrow\":false,\"text\":\"T1 (seconds)\",\"x\":0.14444444444444446,\"xanchor\":\"center\",\"xref\":\"paper\",\"y\":1.0,\"yanchor\":\"bottom\",\"yref\":\"paper\"},{\"font\":{\"size\":16},\"showarrow\":false,\"text\":\"T2 (seconds)\",\"x\":0.5,\"xanchor\":\"center\",\"xref\":\"paper\",\"y\":1.0,\"yanchor\":\"bottom\",\"yref\":\"paper\"},{\"font\":{\"size\":16},\"showarrow\":false,\"text\":\"PD (a.u.)\",\"x\":0.8555555555555556,\"xanchor\":\"center\",\"xref\":\"paper\",\"y\":1.0,\"yanchor\":\"bottom\",\"yref\":\"paper\"}]},                        {\"responsive\": true}                    ).then(function(){\n",
              "                            \n",
              "var gd = document.getElementById('eafd3f3b-7262-45a5-8106-6d6d7644426f');\n",
              "var x = new MutationObserver(function (mutations, observer) {{\n",
              "        var display = window.getComputedStyle(gd).display;\n",
              "        if (!display || display === 'none') {{\n",
              "            console.log([gd, 'removed!']);\n",
              "            Plotly.purge(gd);\n",
              "            observer.disconnect();\n",
              "        }}\n",
              "}});\n",
              "\n",
              "// Listen for the removal of the full notebook cells\n",
              "var notebookContainer = gd.closest('#notebook-container');\n",
              "if (notebookContainer) {{\n",
              "    x.observe(notebookContainer, {childList: true});\n",
              "}}\n",
              "\n",
              "// Listen for the clearing of the current output cell\n",
              "var outputEl = gd.closest('.output');\n",
              "if (outputEl) {{\n",
              "    x.observe(outputEl, {childList: true});\n",
              "}}\n",
              "\n",
              "                        })                };                            </script>        </div>\n",
              "</body>\n",
              "</html>"
            ]
          },
          "metadata": {}
        }
      ]
    },
    {
      "cell_type": "markdown",
      "source": [
        "# Set up the simulation \n"
      ],
      "metadata": {
        "id": "ntG1WbXw8Yvg"
      }
    },
    {
      "cell_type": "code",
      "source": [
        "dfmap = map_scale * loadmat('b0_map_smaller_Hz.mat')['b0_32_Hz']\n",
        "print(np.max(dfmap))\n",
        "print(np.min(dfmap))"
      ],
      "metadata": {
        "colab": {
          "base_uri": "https://localhost:8080/"
        },
        "id": "YFzC0aEWgnGJ",
        "outputId": "98ab9dab-d90f-4444-affa-df89782af999"
      },
      "execution_count": null,
      "outputs": [
        {
          "output_type": "stream",
          "name": "stdout",
          "text": [
            "93.26207870568156\n",
            "-35.91876521624458\n"
          ]
        }
      ]
    },
    {
      "cell_type": "code",
      "source": [
        "# Hardware setup\n",
        "# Prompt the user to upload hardware map (show specifications clearly)\n",
        "# Or: use a preset one \n",
        "# Or: use ideal \n",
        "\n",
        "phantom_shape = np.shape(p.T1map)\n",
        "\n",
        "#@markdown # Hardware map options\n",
        "#@markdown Choose the system B0, B1+, and B1- maps. \"Ideal\" means the maps are uniform across \n",
        "#@markdown the FOV. Then run the cell to visualize these maps. \n",
        "\n",
        "#@markdown ## B0\n",
        "#@markdown * The \"Ideal\" option assume no off-resonance at all points of the phantom (df=0)\n",
        "#@markdown * THe \"ACR 3T\" option can only be used with \n",
        "#@markdown phantoms of size [16,16,1] or [32,32,1]. \n",
        "#@markdown * For the \"Custom\" option, upload a .mat file with a varaible named \n",
        "#@markdown \"dfmap\" with the same size as the phantom ([N_pht,N_pht,1] for the \n",
        "#@markdown default phantom) in units of [Hz].\n",
        "\n",
        "#@markdown The parameter \"B0_scale\" can be used to scale the bandwidth of the \"ACR 3T\" or \n",
        "#@markdown \"Custom\" B0 map. With `B0_scale` = 1, the bandwidth is from -36 Hz to +93 Hz. \n",
        "B0_type = \"Ideal\" #@param [\"Ideal\",\"ACR 3T\",\"Custom\"]\n",
        "B0_scale = 1 #@param {type:\"number\"}\n",
        "\n",
        "if B0_type == \"Ideal\":\n",
        "  dfmap = np.zeros(phantom_shape)\n",
        "elif B0_type == \"ACR 3T\": \n",
        "  dfmap = map_scale * loadmat('b0_map_smaller_Hz.mat')['b0_32_Hz']\n",
        "  dfmap = np.reshape(dfmap, (dfmap.shape[0],dfmap.shape[1],1))\n",
        "  if p.PDmap.shape[2] > 1:\n",
        "    raise ValueError(\"This B0 map is 2D; use a phantom with shape [M,M,1]\")\n",
        "  if p.PDmap.shape == (16,16,1):\n",
        "    dfmap = dfmap[0::2,0::2,0]\n",
        "    dfmap = np.reshape(dfmap, (dfmap.shape[0],dfmap.shape[1],1))\n",
        "\n",
        "  elif p.PDmap.shape != (32,32,1):\n",
        "    raise ValueError(\"When using the ACR 3T map, the phantom size must be 16 x 16 x 1 or 32 x 32 x 1\")\n",
        "elif B0_type == \"Custom\":\n",
        "  print(\"Upload B0 map file:\")\n",
        "  uploaded = files.upload()\n",
        "  b0_path = list(uploaded.keys())[0]\n",
        "  dfmap = map_scale * loadmat(b0_path)['dfmap']\n",
        "  \n",
        "  if len(dfmap.shape) == 2: \n",
        "     dfmap = np.reshape(dfmap, (dfmap.shape[0],dfmap.shape[1],1))\n",
        "  if dfmap.shape != p.PDmap.shape:\n",
        "    raise ValueError(\"Uploaded B0 map shape must be the same as the phantom shape\")\n",
        "\n",
        "#@markdown ## B1+ (transmit coil)\n",
        "#@markdown * The \"Ideal\" option assume no off-resonance at all points of the phantom (df=0)\n",
        "#@markdown * THe \"20 ch head coil\" option can only be used with \n",
        "#@markdown phantoms of size [16,16,1] or [32,32,1]. \n",
        "#@markdown * For the \"Custom\" option, upload a .mat file with a varaible named \n",
        "#@markdown \"txmap\" with the same size as the phantom ([N_pht,N_pht,1] for the \n",
        "#@markdown default phantom). A numerical value of 1 indicates ideal transmission. \n",
        "#@markdown This map can be complex.  \n",
        "\n",
        "#@markdown The parameter \"Tx_scale\" can be used to scale \"20 ch head coil\" Tx map. \n",
        "\n",
        "tx_type = \"Ideal\" #@param [\"Ideal\",\"20 ch head coil\",\"Custom\"]\n",
        "tx_channel_for_head_coil = 7 #@param {type:\"slider\", min:1, max:20, step:1}\n",
        "Tx_scale = 2 #@param {type:\"number\"}\n",
        "\n",
        "c = tx_channel_for_head_coil + 1 \n",
        "if tx_type == \"Ideal\": \n",
        "  txmap = np.ones(phantom_shape) \n",
        "elif tx_type == \"20 ch head coil\":\n",
        "  txmap = loadmat('rx_maps_ds_16_32.mat')['rx_maps_32_norm'][:,:,c]\n",
        "  txmap = Tx_scale * np.reshape(txmap, (txmap.shape[0],txmap.shape[1],1))\n",
        "  if p.PDmap.shape[2] > 1:\n",
        "    raise ValueError(\"This B0 map is 2D; use a phantom with shape [M,M,1]\")\n",
        "  if p.PDmap.shape == (16,16,1):\n",
        "    txmap = txmap[0::2,0::2,0]\n",
        "    txmap = np.reshape(txmap, (txmap.shape[0],txmap.shape[1],1))\n",
        "\n",
        "  elif p.PDmap.shape != (32,32,1):\n",
        "    raise ValueError(\"When using the 20 ch head coil map, the phantom size must be 16 x 16 x 1 or 32 x 32 x 1\")\n",
        "\n",
        "elif tx_type == \"Custom\":\n",
        "  print('Upload transmit B1 coil file:')\n",
        "  uploaded = files.upload()\n",
        "  matpath = list(uploaded.keys())[0]\n",
        "  txmap = loadmat(matpath)['txmap']\n",
        "\n",
        "  if len(txmap.shape) == 2: \n",
        "     txmap = np.reshape(txmap, (txmap.shape[0],txmap.shape[1],1))\n",
        "  if txmap.shape != p.PDmap.shape:\n",
        "    raise ValueError(\"Uploaded B1 tx map shape must be the same as the phantom shape\")\n",
        "\n",
        "#@markdown ## B1- (receive coil)\n",
        "\n",
        "#@markdown For the \"Custom\" option, upload a .mat file with a varaible named \n",
        "#@markdown \"rxmap\" with the same size as the phantom ([N_pht,N_pht,1] for the \n",
        "#@markdown default phantom). A numerical value of 1 indicates ideal received signal. \n",
        "#@markdown This map can be complex.  \n",
        "\n",
        "#@markdown The parameter \"Tx_scale\" can be used to scale \"20 ch head coil\" Tx map. \n",
        "\n",
        "rx_type = \"20 ch head coil\" #@param [\"Ideal\",\"20 ch head coil\",\"Custom\"]\n",
        "rx_channel_for_head_coil = 13 #@param {type:\"slider\", min:1, max:20, step:1}\n",
        "Rx_scale = 2 #@param {type:\"number\"}\n",
        "\n",
        "d = rx_channel_for_head_coil + 1 \n",
        "if rx_type == \"Ideal\": \n",
        "  rxmap = np.ones(phantom_shape) \n",
        "elif rx_type == \"20 ch head coil\":\n",
        "  rxmap = loadmat('rx_maps_ds_16_32.mat')['rx_maps_32_norm'][:,:,d]\n",
        "  rxmap = Rx_scale * np.reshape(rxmap,(rxmap.shape[0],rxmap.shape[1],1))\n",
        "  if p.PDmap.shape[2] > 1:\n",
        "    raise ValueError(\"This B0 map is 2D; use a phantom with shape [M,M,1]\")\n",
        "  if p.PDmap.shape == (16,16,1):\n",
        "    rxmap = rxmap[0::2,0::2,0]\n",
        "    rxmap = np.reshape(rxmap,(rxmap.shape[0],rxmap.shape[1],1))\n",
        "  elif p.PDmap.shape != (32,32,1):\n",
        "    raise ValueError(\"When using the 20 ch head coil map, the phantom size must be 16 x 16 x 1 or 32 x 32 x 1\")\n",
        "\n",
        "elif rx_type == \"Custom\":\n",
        "  print('Upload receive B1 coil file')\n",
        "  uploaded = files.upload()\n",
        "  matpath = list(uploaded.keys())[0]\n",
        "  rxmap = loadmat(matpath)['rxmap']\n",
        "  if len(rxmap.shape) == 2: \n",
        "    rxmap = np.reshape(rxmap,(rxmap.shape[0],rxmap.shape[1],1))\n",
        "  if rxmap.shape != p.PDmap.shape:\n",
        "    raise ValueError(\"Uploaded B1 rx map shape must be the same as the phantom shape\")\n",
        "\n",
        "\n",
        "# Set up hardware maps \n",
        "scanner_info = {'B0': dfmap, 'B1tx':txmap, 'B1rx':rxmap}\n",
        "\n",
        "# Display hardware \n",
        "display_b0_b1_maps(scanner_info)\n",
        "\n"
      ],
      "metadata": {
        "id": "4aeQTj6j8Ybs",
        "colab": {
          "base_uri": "https://localhost:8080/",
          "height": 1000
        },
        "cellView": "form",
        "outputId": "41b3bfbd-4838-496a-ebf0-e6f7c82d0cd5"
      },
      "execution_count": null,
      "outputs": [
        {
          "output_type": "display_data",
          "data": {
            "text/html": [
              "<html>\n",
              "<head><meta charset=\"utf-8\" /></head>\n",
              "<body>\n",
              "    <div>            <script src=\"https://cdnjs.cloudflare.com/ajax/libs/mathjax/2.7.5/MathJax.js?config=TeX-AMS-MML_SVG\"></script><script type=\"text/javascript\">if (window.MathJax) {MathJax.Hub.Config({SVG: {font: \"STIX-Web\"}});}</script>                <script type=\"text/javascript\">window.PlotlyConfig = {MathJaxConfig: 'local'};</script>\n",
              "        <script src=\"https://cdn.plot.ly/plotly-2.11.1.min.js\"></script>                <div id=\"4dabe0fc-31d5-4039-b345-248ba2a58a5d\" class=\"plotly-graph-div\" style=\"height:1000px; width:1200px;\"></div>            <script type=\"text/javascript\">                                    window.PLOTLYENV=window.PLOTLYENV || {};                                    if (document.getElementById(\"4dabe0fc-31d5-4039-b345-248ba2a58a5d\")) {                    Plotly.newPlot(                        \"4dabe0fc-31d5-4039-b345-248ba2a58a5d\",                        [{\"colorbar\":{\"len\":0.4,\"x\":0.29,\"y\":0.81},\"z\":[[0.0,0.0,0.0,0.0,0.0,0.0,0.0,0.0,0.0,0.0,0.0,0.0,0.0,0.0,0.0,0.0],[0.0,0.0,0.0,0.0,0.0,0.0,0.0,0.0,0.0,0.0,0.0,0.0,0.0,0.0,0.0,0.0],[0.0,0.0,0.0,0.0,0.0,0.0,0.0,0.0,0.0,0.0,0.0,0.0,0.0,0.0,0.0,0.0],[0.0,0.0,0.0,0.0,0.0,0.0,0.0,0.0,0.0,0.0,0.0,0.0,0.0,0.0,0.0,0.0],[0.0,0.0,0.0,0.0,0.0,0.0,0.0,0.0,0.0,0.0,0.0,0.0,0.0,0.0,0.0,0.0],[0.0,0.0,0.0,0.0,0.0,0.0,0.0,0.0,0.0,0.0,0.0,0.0,0.0,0.0,0.0,0.0],[0.0,0.0,0.0,0.0,0.0,0.0,0.0,0.0,0.0,0.0,0.0,0.0,0.0,0.0,0.0,0.0],[0.0,0.0,0.0,0.0,0.0,0.0,0.0,0.0,0.0,0.0,0.0,0.0,0.0,0.0,0.0,0.0],[0.0,0.0,0.0,0.0,0.0,0.0,0.0,0.0,0.0,0.0,0.0,0.0,0.0,0.0,0.0,0.0],[0.0,0.0,0.0,0.0,0.0,0.0,0.0,0.0,0.0,0.0,0.0,0.0,0.0,0.0,0.0,0.0],[0.0,0.0,0.0,0.0,0.0,0.0,0.0,0.0,0.0,0.0,0.0,0.0,0.0,0.0,0.0,0.0],[0.0,0.0,0.0,0.0,0.0,0.0,0.0,0.0,0.0,0.0,0.0,0.0,0.0,0.0,0.0,0.0],[0.0,0.0,0.0,0.0,0.0,0.0,0.0,0.0,0.0,0.0,0.0,0.0,0.0,0.0,0.0,0.0],[0.0,0.0,0.0,0.0,0.0,0.0,0.0,0.0,0.0,0.0,0.0,0.0,0.0,0.0,0.0,0.0],[0.0,0.0,0.0,0.0,0.0,0.0,0.0,0.0,0.0,0.0,0.0,0.0,0.0,0.0,0.0,0.0],[0.0,0.0,0.0,0.0,0.0,0.0,0.0,0.0,0.0,0.0,0.0,0.0,0.0,0.0,0.0,0.0]],\"type\":\"heatmap\",\"xaxis\":\"x\",\"yaxis\":\"y\"},{\"colorbar\":{\"len\":0.4,\"x\":0.64,\"y\":0.81},\"z\":[[1.0,1.0,1.0,1.0,1.0,1.0,1.0,1.0,1.0,1.0,1.0,1.0,1.0,1.0,1.0,1.0],[1.0,1.0,1.0,1.0,1.0,1.0,1.0,1.0,1.0,1.0,1.0,1.0,1.0,1.0,1.0,1.0],[1.0,1.0,1.0,1.0,1.0,1.0,1.0,1.0,1.0,1.0,1.0,1.0,1.0,1.0,1.0,1.0],[1.0,1.0,1.0,1.0,1.0,1.0,1.0,1.0,1.0,1.0,1.0,1.0,1.0,1.0,1.0,1.0],[1.0,1.0,1.0,1.0,1.0,1.0,1.0,1.0,1.0,1.0,1.0,1.0,1.0,1.0,1.0,1.0],[1.0,1.0,1.0,1.0,1.0,1.0,1.0,1.0,1.0,1.0,1.0,1.0,1.0,1.0,1.0,1.0],[1.0,1.0,1.0,1.0,1.0,1.0,1.0,1.0,1.0,1.0,1.0,1.0,1.0,1.0,1.0,1.0],[1.0,1.0,1.0,1.0,1.0,1.0,1.0,1.0,1.0,1.0,1.0,1.0,1.0,1.0,1.0,1.0],[1.0,1.0,1.0,1.0,1.0,1.0,1.0,1.0,1.0,1.0,1.0,1.0,1.0,1.0,1.0,1.0],[1.0,1.0,1.0,1.0,1.0,1.0,1.0,1.0,1.0,1.0,1.0,1.0,1.0,1.0,1.0,1.0],[1.0,1.0,1.0,1.0,1.0,1.0,1.0,1.0,1.0,1.0,1.0,1.0,1.0,1.0,1.0,1.0],[1.0,1.0,1.0,1.0,1.0,1.0,1.0,1.0,1.0,1.0,1.0,1.0,1.0,1.0,1.0,1.0],[1.0,1.0,1.0,1.0,1.0,1.0,1.0,1.0,1.0,1.0,1.0,1.0,1.0,1.0,1.0,1.0],[1.0,1.0,1.0,1.0,1.0,1.0,1.0,1.0,1.0,1.0,1.0,1.0,1.0,1.0,1.0,1.0],[1.0,1.0,1.0,1.0,1.0,1.0,1.0,1.0,1.0,1.0,1.0,1.0,1.0,1.0,1.0,1.0],[1.0,1.0,1.0,1.0,1.0,1.0,1.0,1.0,1.0,1.0,1.0,1.0,1.0,1.0,1.0,1.0]],\"type\":\"heatmap\",\"xaxis\":\"x2\",\"yaxis\":\"y2\"},{\"colorbar\":{\"len\":0.4,\"x\":1,\"y\":0.82},\"z\":[[0.0,0.0,0.0,5.91181105846772e-07,0.0014897113433107734,0.02540622092783451,0.1625850647687912,0.4059055745601654,0.5373048186302185,0.5466967225074768,0.1098562628030777,0.05054818093776703,0.0008106867899186909,0.0,0.0,0.0],[0.0,0.0,0.00028088362887501717,0.02877616323530674,0.5076470971107483,0.7035340666770935,0.6360969543457031,0.6972294449806213,0.8545519113540649,1.0312801599502563,1.2518788576126099,1.4857089519500732,0.34488093852996826,0.010891104117035866,1.8024030268293245e-08,0.0],[0.0,0.00021599831234198064,0.02200092002749443,0.681742250919342,0.5827162861824036,0.5540902614593506,0.5796738862991333,0.6614223718643188,0.8118028044700623,0.9761800169944763,1.1390153169631958,1.2828348875045776,1.4126100540161133,0.983522891998291,0.019057592377066612,0.0],[0.0,0.023449867963790894,0.6166825294494629,0.5365357995033264,0.503851056098938,0.4905446469783783,0.553424060344696,0.6649625897407532,0.7915507555007935,0.9435978531837463,1.0705550909042358,1.1841028928756714,1.2242780923843384,1.2682591676712036,0.6004459261894226,0.0008774002781137824],[0.001124971080571413,0.3544522821903229,0.5030930638313293,0.46847406029701233,0.463135689496994,0.48812851309776306,0.5622202754020691,0.6682379245758057,0.797169029712677,0.9248660802841187,1.0159075260162354,1.07014000415802,1.1047152280807495,1.0899927616119385,1.10690438747406,0.008051455020904541],[0.021477051079273224,0.5243674516677856,0.45884284377098083,0.4377676844596863,0.45594072341918945,0.48949694633483887,0.5714336633682251,0.6719868183135986,0.7824206948280334,0.87794029712677,0.9535613059997559,0.984219491481781,0.9654873013496399,0.9491598010063171,0.8998408317565918,0.5783736109733582],[0.06977574527263641,0.4621462821960449,0.4182012677192688,0.42894336581230164,0.42632949352264404,0.4981244206428528,0.5753556489944458,0.6752849221229553,0.7689312100410461,0.80986088514328,0.8773145079612732,0.881138801574707,0.8634218573570251,0.8071027398109436,0.7464352250099182,0.7505341172218323],[0.17688553035259247,0.4168853759765625,0.3947816491127014,0.415971577167511,0.4267835319042206,0.5004616975784302,0.5635954141616821,0.6495683193206787,0.7192416787147522,0.7613837122917175,0.7751159071922302,0.7622485756874084,0.7289103865623474,0.6861379146575928,0.6297544836997986,0.6427932381629944],[0.21496327221393585,0.3939494490623474,0.38124704360961914,0.3823663890361786,0.42958447337150574,0.473075270652771,0.5394169688224792,0.595622181892395,0.6476377844810486,0.6753990054130554,0.6842001676559448,0.6562992930412292,0.6141023635864258,0.5519425272941589,0.5250261425971985,0.548281729221344],[0.09179241210222244,0.36728325486183167,0.35797932744026184,0.37400126457214355,0.40735435485839844,0.46181461215019226,0.5036547780036926,0.5444684028625488,0.5774323344230652,0.5964947938919067,0.5695095658302307,0.5366889238357544,0.4934771955013275,0.4585025906562805,0.4381491243839264,0.4702797532081604],[0.0013441938208416104,0.3490750789642334,0.3230234384536743,0.35194358229637146,0.3768768608570099,0.4141903221607208,0.4461985230445862,0.47861117124557495,0.4948585629463196,0.4872010350227356,0.45478126406669617,0.42157527804374695,0.3858722746372223,0.35895904898643494,0.35731297731399536,0.35407209396362305],[0.005859551019966602,0.3067619502544403,0.29703259468078613,0.306382954120636,0.32175564765930176,0.3552877604961395,0.3763820230960846,0.393210232257843,0.3888866901397705,0.383239209651947,0.3532217741012573,0.3245781660079956,0.29517433047294617,0.2829841077327728,0.2970539629459381,0.07802871614694595],[4.816338696400635e-05,0.017042793333530426,0.2806857228279114,0.26365557312965393,0.29461991786956787,0.30468297004699707,0.2993844747543335,0.32217085361480713,0.31711313128471375,0.2844150960445404,0.264100581407547,0.23696231842041016,0.21444174647331238,0.21952761709690094,0.24583259224891663,0.00675208168104291],[0.0,0.00011833301687147468,0.0745183527469635,0.23008030652999878,0.23258499801158905,0.2385982871055603,0.24702629446983337,0.2408568114042282,0.23558305203914642,0.21923890709877014,0.17895017564296722,0.1481502205133438,0.1423998922109604,0.18942245841026306,0.004941555205732584,2.8914020731463097e-05],[0.0,0.0,0.00010117414785781875,0.04849127680063248,0.20435988903045654,0.19900281727313995,0.18816883862018585,0.1803770661354065,0.15198107063770294,0.13534875214099884,0.0970221757888794,0.08638682961463928,0.10715612769126892,0.004362653009593487,6.98145740898326e-05,0.0],[0.0,0.0,0.0,0.0001636649831198156,0.006549918558448553,0.06607396900653839,0.13230527937412262,0.12113267928361893,0.10572800785303116,0.06884763389825821,0.04293658211827278,0.008365529589354992,0.0021647983230650425,4.570658347802237e-06,0.0,0.0]],\"type\":\"heatmap\",\"xaxis\":\"x3\",\"yaxis\":\"y3\"},{\"colorbar\":{\"len\":0.4,\"x\":0.64,\"y\":0.19},\"z\":[[0.0,0.0,0.0,0.0,0.0,0.0,0.0,0.0,0.0,0.0,0.0,0.0,0.0,0.0,0.0,0.0],[0.0,0.0,0.0,0.0,0.0,0.0,0.0,0.0,0.0,0.0,0.0,0.0,0.0,0.0,0.0,0.0],[0.0,0.0,0.0,0.0,0.0,0.0,0.0,0.0,0.0,0.0,0.0,0.0,0.0,0.0,0.0,0.0],[0.0,0.0,0.0,0.0,0.0,0.0,0.0,0.0,0.0,0.0,0.0,0.0,0.0,0.0,0.0,0.0],[0.0,0.0,0.0,0.0,0.0,0.0,0.0,0.0,0.0,0.0,0.0,0.0,0.0,0.0,0.0,0.0],[0.0,0.0,0.0,0.0,0.0,0.0,0.0,0.0,0.0,0.0,0.0,0.0,0.0,0.0,0.0,0.0],[0.0,0.0,0.0,0.0,0.0,0.0,0.0,0.0,0.0,0.0,0.0,0.0,0.0,0.0,0.0,0.0],[0.0,0.0,0.0,0.0,0.0,0.0,0.0,0.0,0.0,0.0,0.0,0.0,0.0,0.0,0.0,0.0],[0.0,0.0,0.0,0.0,0.0,0.0,0.0,0.0,0.0,0.0,0.0,0.0,0.0,0.0,0.0,0.0],[0.0,0.0,0.0,0.0,0.0,0.0,0.0,0.0,0.0,0.0,0.0,0.0,0.0,0.0,0.0,0.0],[0.0,0.0,0.0,0.0,0.0,0.0,0.0,0.0,0.0,0.0,0.0,0.0,0.0,0.0,0.0,0.0],[0.0,0.0,0.0,0.0,0.0,0.0,0.0,0.0,0.0,0.0,0.0,0.0,0.0,0.0,0.0,0.0],[0.0,0.0,0.0,0.0,0.0,0.0,0.0,0.0,0.0,0.0,0.0,0.0,0.0,0.0,0.0,0.0],[0.0,0.0,0.0,0.0,0.0,0.0,0.0,0.0,0.0,0.0,0.0,0.0,0.0,0.0,0.0,0.0],[0.0,0.0,0.0,0.0,0.0,0.0,0.0,0.0,0.0,0.0,0.0,0.0,0.0,0.0,0.0,0.0],[0.0,0.0,0.0,0.0,0.0,0.0,0.0,0.0,0.0,0.0,0.0,0.0,0.0,0.0,0.0,0.0]],\"type\":\"heatmap\",\"xaxis\":\"x5\",\"yaxis\":\"y5\"},{\"colorbar\":{\"len\":0.4,\"x\":1,\"y\":0.19},\"z\":[[0.0,0.0,0.0,1.5242753761413042e-06,3.1388487815856934,-3.130356788635254,0.023005589842796326,-0.8600308895111084,0.7076720595359802,0.13931649923324585,-0.06337551772594452,3.1166653633117676,-0.0004559040244203061,0.0,0.0,0.0],[0.0,0.0,-0.0006664117681793869,-3.1135542392730713,0.8639798164367676,-0.5865572690963745,1.7876249551773071,0.561954140663147,2.545909881591797,0.5772209167480469,2.0781383514404297,-0.8668416738510132,0.0863627940416336,3.1404194831848145,-4.769952255401222e-08,0.0],[0.0,-0.0013267602771520615,-2.686922550201416,-0.09565895795822144,-2.50343918800354,1.0272828340530396,0.5140985250473022,-0.4922986924648285,1.8856254816055298,-2.2887818813323975,-1.7464005947113037,-2.189897060394287,-3.1087071895599365,0.847108781337738,3.131624698638916,0.0],[0.0,-2.8875234127044678,2.1089930534362793,2.2836709022521973,1.665273904800415,3.0932157039642334,1.6819642782211304,-1.8127936124801636,-0.8626908659934998,3.075721502304077,-2.381218433380127,1.5753437280654907,-2.1033549308776855,-1.0457013845443726,-0.6379223465919495,3.1387581825256348],[3.139019250869751,-2.7124786376953125,-2.2212026119232178,-3.089607000350952,-3.0554568767547607,0.7679672837257385,-0.21117329597473145,1.845828652381897,-0.9894867539405823,2.9030673503875732,-0.9049404263496399,0.3790714144706726,-2.379188060760498,-0.1536140739917755,0.27929365634918213,3.005953311920166],[-2.936375141143799,-2.090797185897827,-2.2844340801239014,-2.391237497329712,2.097611665725708,-1.2090904712677002,-1.6946396827697754,1.1050498485565186,-2.056422472000122,-1.8875024318695068,-1.5940349102020264,-0.6625602841377258,-0.47259822487831116,1.0034948587417603,1.0879987478256226,1.7079352140426636],[0.18752418458461761,2.103789806365967,2.111145496368408,2.823331356048584,-0.9224045276641846,0.5963027477264404,1.5945861339569092,2.8876266479492188,1.4488372802734375,1.8569523096084595,-0.4222370386123657,-2.8213231563568115,-0.5994358658790588,1.6160900592803955,-1.8649165630340576,0.8810214400291443],[2.060729503631592,-2.525692939758301,-1.8271656036376953,-2.9073662757873535,3.1405417919158936,-0.3058858811855316,-2.3571579456329346,2.7218456268310547,-3.012470245361328,0.8634712100028992,0.49765288829803467,2.349580764770508,0.2209523320198059,2.085200548171997,1.4852542877197266,1.793211579322815],[1.1415729522705078,2.621091604232788,-1.335813045501709,-3.0549404621124268,0.9349982738494873,2.1544597148895264,-2.5723183155059814,2.687329053878784,-2.790050983428955,-2.8003644943237305,-1.9082372188568115,2.339275598526001,0.9813495874404907,1.4655157327651978,-2.201265811920166,2.004033327102661],[0.38638928532600403,0.9258797764778137,1.1160823106765747,-2.7204248905181885,3.092381477355957,-3.030147075653076,0.3102497458457947,-2.9331283569335938,-2.5399997234344482,-2.033168315887451,2.4896414279937744,-2.2009482383728027,0.3737405240535736,0.5707021951675415,1.1128337383270264,2.552513360977173],[0.03375798836350441,-2.406071424484253,2.427905797958374,-2.6976006031036377,-2.2349603176116943,-3.0189545154571533,-3.0049915313720703,-2.7235379219055176,-1.9878772497177124,-2.313812017440796,-3.1355767250061035,-2.2654731273651123,-1.4271541833877563,-1.6248680353164673,-1.3480433225631714,1.9608100652694702],[3.1063733100891113,2.321491241455078,-0.5892147421836853,-2.108978033065796,-1.5671528577804565,1.767952799797058,0.7709299325942993,2.84955096244812,3.0742530822753906,-0.8233020305633545,-0.9571224451065063,-2.7972257137298584,-2.107329845428467,0.6742488741874695,2.5072479248046875,-0.19094841182231903],[0.00011621656449278817,0.14409422874450684,-1.5851898193359375,-2.4731879234313965,-2.8431334495544434,-0.5227412581443787,-2.6359832286834717,2.612470865249634,-3.0732219219207764,2.6141345500946045,1.9874895811080933,-0.35468560457229614,0.4124991297721863,2.439243793487549,2.347792387008667,-3.0988690853118896],[0.0,-0.0014478580560535192,-0.33990854024887085,1.4738705158233643,2.9896557331085205,-0.9302483797073364,2.425384998321533,-2.3535943031311035,-2.560922384262085,1.2040022611618042,2.7289702892303467,0.17135685682296753,0.04136452451348305,0.5269978642463684,3.062089204788208,-9.776621482160408e-06],[0.0,0.0,3.139537811279297,-0.2333456575870514,-2.914182186126709,-3.019334077835083,3.115724802017212,-2.490807294845581,-3.1155006885528564,1.5713236331939697,-1.210006594657898,0.14210157096385956,-1.2336386442184448,3.048153877258301,-0.0008798757335171103,0.0],[0.0,0.0,0.0,-0.0011390320723876357,-3.0740411281585693,-0.5683887004852295,0.3122135400772095,-1.6718443632125854,-2.6116909980773926,-2.418987512588501,-0.29763245582580566,0.032119013369083405,-3.117967128753662,1.8584296412882395e-05,0.0,0.0]],\"type\":\"heatmap\",\"xaxis\":\"x6\",\"yaxis\":\"y6\"}],                        {\"template\":{\"data\":{\"histogram2dcontour\":[{\"type\":\"histogram2dcontour\",\"colorbar\":{\"outlinewidth\":0,\"ticks\":\"\"},\"colorscale\":[[0.0,\"#0d0887\"],[0.1111111111111111,\"#46039f\"],[0.2222222222222222,\"#7201a8\"],[0.3333333333333333,\"#9c179e\"],[0.4444444444444444,\"#bd3786\"],[0.5555555555555556,\"#d8576b\"],[0.6666666666666666,\"#ed7953\"],[0.7777777777777778,\"#fb9f3a\"],[0.8888888888888888,\"#fdca26\"],[1.0,\"#f0f921\"]]}],\"choropleth\":[{\"type\":\"choropleth\",\"colorbar\":{\"outlinewidth\":0,\"ticks\":\"\"}}],\"histogram2d\":[{\"type\":\"histogram2d\",\"colorbar\":{\"outlinewidth\":0,\"ticks\":\"\"},\"colorscale\":[[0.0,\"#0d0887\"],[0.1111111111111111,\"#46039f\"],[0.2222222222222222,\"#7201a8\"],[0.3333333333333333,\"#9c179e\"],[0.4444444444444444,\"#bd3786\"],[0.5555555555555556,\"#d8576b\"],[0.6666666666666666,\"#ed7953\"],[0.7777777777777778,\"#fb9f3a\"],[0.8888888888888888,\"#fdca26\"],[1.0,\"#f0f921\"]]}],\"heatmap\":[{\"type\":\"heatmap\",\"colorbar\":{\"outlinewidth\":0,\"ticks\":\"\"},\"colorscale\":[[0.0,\"#0d0887\"],[0.1111111111111111,\"#46039f\"],[0.2222222222222222,\"#7201a8\"],[0.3333333333333333,\"#9c179e\"],[0.4444444444444444,\"#bd3786\"],[0.5555555555555556,\"#d8576b\"],[0.6666666666666666,\"#ed7953\"],[0.7777777777777778,\"#fb9f3a\"],[0.8888888888888888,\"#fdca26\"],[1.0,\"#f0f921\"]]}],\"heatmapgl\":[{\"type\":\"heatmapgl\",\"colorbar\":{\"outlinewidth\":0,\"ticks\":\"\"},\"colorscale\":[[0.0,\"#0d0887\"],[0.1111111111111111,\"#46039f\"],[0.2222222222222222,\"#7201a8\"],[0.3333333333333333,\"#9c179e\"],[0.4444444444444444,\"#bd3786\"],[0.5555555555555556,\"#d8576b\"],[0.6666666666666666,\"#ed7953\"],[0.7777777777777778,\"#fb9f3a\"],[0.8888888888888888,\"#fdca26\"],[1.0,\"#f0f921\"]]}],\"contourcarpet\":[{\"type\":\"contourcarpet\",\"colorbar\":{\"outlinewidth\":0,\"ticks\":\"\"}}],\"contour\":[{\"type\":\"contour\",\"colorbar\":{\"outlinewidth\":0,\"ticks\":\"\"},\"colorscale\":[[0.0,\"#0d0887\"],[0.1111111111111111,\"#46039f\"],[0.2222222222222222,\"#7201a8\"],[0.3333333333333333,\"#9c179e\"],[0.4444444444444444,\"#bd3786\"],[0.5555555555555556,\"#d8576b\"],[0.6666666666666666,\"#ed7953\"],[0.7777777777777778,\"#fb9f3a\"],[0.8888888888888888,\"#fdca26\"],[1.0,\"#f0f921\"]]}],\"surface\":[{\"type\":\"surface\",\"colorbar\":{\"outlinewidth\":0,\"ticks\":\"\"},\"colorscale\":[[0.0,\"#0d0887\"],[0.1111111111111111,\"#46039f\"],[0.2222222222222222,\"#7201a8\"],[0.3333333333333333,\"#9c179e\"],[0.4444444444444444,\"#bd3786\"],[0.5555555555555556,\"#d8576b\"],[0.6666666666666666,\"#ed7953\"],[0.7777777777777778,\"#fb9f3a\"],[0.8888888888888888,\"#fdca26\"],[1.0,\"#f0f921\"]]}],\"mesh3d\":[{\"type\":\"mesh3d\",\"colorbar\":{\"outlinewidth\":0,\"ticks\":\"\"}}],\"scatter\":[{\"fillpattern\":{\"fillmode\":\"overlay\",\"size\":10,\"solidity\":0.2},\"type\":\"scatter\"}],\"parcoords\":[{\"type\":\"parcoords\",\"line\":{\"colorbar\":{\"outlinewidth\":0,\"ticks\":\"\"}}}],\"scatterpolargl\":[{\"type\":\"scatterpolargl\",\"marker\":{\"colorbar\":{\"outlinewidth\":0,\"ticks\":\"\"}}}],\"bar\":[{\"error_x\":{\"color\":\"#2a3f5f\"},\"error_y\":{\"color\":\"#2a3f5f\"},\"marker\":{\"line\":{\"color\":\"#E5ECF6\",\"width\":0.5},\"pattern\":{\"fillmode\":\"overlay\",\"size\":10,\"solidity\":0.2}},\"type\":\"bar\"}],\"scattergeo\":[{\"type\":\"scattergeo\",\"marker\":{\"colorbar\":{\"outlinewidth\":0,\"ticks\":\"\"}}}],\"scatterpolar\":[{\"type\":\"scatterpolar\",\"marker\":{\"colorbar\":{\"outlinewidth\":0,\"ticks\":\"\"}}}],\"histogram\":[{\"marker\":{\"pattern\":{\"fillmode\":\"overlay\",\"size\":10,\"solidity\":0.2}},\"type\":\"histogram\"}],\"scattergl\":[{\"type\":\"scattergl\",\"marker\":{\"colorbar\":{\"outlinewidth\":0,\"ticks\":\"\"}}}],\"scatter3d\":[{\"type\":\"scatter3d\",\"line\":{\"colorbar\":{\"outlinewidth\":0,\"ticks\":\"\"}},\"marker\":{\"colorbar\":{\"outlinewidth\":0,\"ticks\":\"\"}}}],\"scattermapbox\":[{\"type\":\"scattermapbox\",\"marker\":{\"colorbar\":{\"outlinewidth\":0,\"ticks\":\"\"}}}],\"scatterternary\":[{\"type\":\"scatterternary\",\"marker\":{\"colorbar\":{\"outlinewidth\":0,\"ticks\":\"\"}}}],\"scattercarpet\":[{\"type\":\"scattercarpet\",\"marker\":{\"colorbar\":{\"outlinewidth\":0,\"ticks\":\"\"}}}],\"carpet\":[{\"aaxis\":{\"endlinecolor\":\"#2a3f5f\",\"gridcolor\":\"white\",\"linecolor\":\"white\",\"minorgridcolor\":\"white\",\"startlinecolor\":\"#2a3f5f\"},\"baxis\":{\"endlinecolor\":\"#2a3f5f\",\"gridcolor\":\"white\",\"linecolor\":\"white\",\"minorgridcolor\":\"white\",\"startlinecolor\":\"#2a3f5f\"},\"type\":\"carpet\"}],\"table\":[{\"cells\":{\"fill\":{\"color\":\"#EBF0F8\"},\"line\":{\"color\":\"white\"}},\"header\":{\"fill\":{\"color\":\"#C8D4E3\"},\"line\":{\"color\":\"white\"}},\"type\":\"table\"}],\"barpolar\":[{\"marker\":{\"line\":{\"color\":\"#E5ECF6\",\"width\":0.5},\"pattern\":{\"fillmode\":\"overlay\",\"size\":10,\"solidity\":0.2}},\"type\":\"barpolar\"}],\"pie\":[{\"automargin\":true,\"type\":\"pie\"}]},\"layout\":{\"autotypenumbers\":\"strict\",\"colorway\":[\"#636efa\",\"#EF553B\",\"#00cc96\",\"#ab63fa\",\"#FFA15A\",\"#19d3f3\",\"#FF6692\",\"#B6E880\",\"#FF97FF\",\"#FECB52\"],\"font\":{\"color\":\"#2a3f5f\"},\"hovermode\":\"closest\",\"hoverlabel\":{\"align\":\"left\"},\"paper_bgcolor\":\"white\",\"plot_bgcolor\":\"#E5ECF6\",\"polar\":{\"bgcolor\":\"#E5ECF6\",\"angularaxis\":{\"gridcolor\":\"white\",\"linecolor\":\"white\",\"ticks\":\"\"},\"radialaxis\":{\"gridcolor\":\"white\",\"linecolor\":\"white\",\"ticks\":\"\"}},\"ternary\":{\"bgcolor\":\"#E5ECF6\",\"aaxis\":{\"gridcolor\":\"white\",\"linecolor\":\"white\",\"ticks\":\"\"},\"baxis\":{\"gridcolor\":\"white\",\"linecolor\":\"white\",\"ticks\":\"\"},\"caxis\":{\"gridcolor\":\"white\",\"linecolor\":\"white\",\"ticks\":\"\"}},\"coloraxis\":{\"colorbar\":{\"outlinewidth\":0,\"ticks\":\"\"}},\"colorscale\":{\"sequential\":[[0.0,\"#0d0887\"],[0.1111111111111111,\"#46039f\"],[0.2222222222222222,\"#7201a8\"],[0.3333333333333333,\"#9c179e\"],[0.4444444444444444,\"#bd3786\"],[0.5555555555555556,\"#d8576b\"],[0.6666666666666666,\"#ed7953\"],[0.7777777777777778,\"#fb9f3a\"],[0.8888888888888888,\"#fdca26\"],[1.0,\"#f0f921\"]],\"sequentialminus\":[[0.0,\"#0d0887\"],[0.1111111111111111,\"#46039f\"],[0.2222222222222222,\"#7201a8\"],[0.3333333333333333,\"#9c179e\"],[0.4444444444444444,\"#bd3786\"],[0.5555555555555556,\"#d8576b\"],[0.6666666666666666,\"#ed7953\"],[0.7777777777777778,\"#fb9f3a\"],[0.8888888888888888,\"#fdca26\"],[1.0,\"#f0f921\"]],\"diverging\":[[0,\"#8e0152\"],[0.1,\"#c51b7d\"],[0.2,\"#de77ae\"],[0.3,\"#f1b6da\"],[0.4,\"#fde0ef\"],[0.5,\"#f7f7f7\"],[0.6,\"#e6f5d0\"],[0.7,\"#b8e186\"],[0.8,\"#7fbc41\"],[0.9,\"#4d9221\"],[1,\"#276419\"]]},\"xaxis\":{\"gridcolor\":\"white\",\"linecolor\":\"white\",\"ticks\":\"\",\"title\":{\"standoff\":15},\"zerolinecolor\":\"white\",\"automargin\":true,\"zerolinewidth\":2},\"yaxis\":{\"gridcolor\":\"white\",\"linecolor\":\"white\",\"ticks\":\"\",\"title\":{\"standoff\":15},\"zerolinecolor\":\"white\",\"automargin\":true,\"zerolinewidth\":2},\"scene\":{\"xaxis\":{\"backgroundcolor\":\"#E5ECF6\",\"gridcolor\":\"white\",\"linecolor\":\"white\",\"showbackground\":true,\"ticks\":\"\",\"zerolinecolor\":\"white\",\"gridwidth\":2},\"yaxis\":{\"backgroundcolor\":\"#E5ECF6\",\"gridcolor\":\"white\",\"linecolor\":\"white\",\"showbackground\":true,\"ticks\":\"\",\"zerolinecolor\":\"white\",\"gridwidth\":2},\"zaxis\":{\"backgroundcolor\":\"#E5ECF6\",\"gridcolor\":\"white\",\"linecolor\":\"white\",\"showbackground\":true,\"ticks\":\"\",\"zerolinecolor\":\"white\",\"gridwidth\":2}},\"shapedefaults\":{\"line\":{\"color\":\"#2a3f5f\"}},\"annotationdefaults\":{\"arrowcolor\":\"#2a3f5f\",\"arrowhead\":0,\"arrowwidth\":1},\"geo\":{\"bgcolor\":\"white\",\"landcolor\":\"#E5ECF6\",\"subunitcolor\":\"white\",\"showland\":true,\"showlakes\":true,\"lakecolor\":\"white\"},\"title\":{\"x\":0.05},\"mapbox\":{\"style\":\"light\"}}},\"xaxis\":{\"anchor\":\"y\",\"domain\":[0.0,0.2888888888888889],\"showgrid\":false,\"showticklabels\":false},\"yaxis\":{\"anchor\":\"x\",\"domain\":[0.625,1.0],\"showgrid\":false,\"showticklabels\":false},\"xaxis2\":{\"anchor\":\"y2\",\"domain\":[0.35555555555555557,0.6444444444444445],\"showgrid\":false,\"showticklabels\":false},\"yaxis2\":{\"anchor\":\"x2\",\"domain\":[0.625,1.0],\"showgrid\":false,\"showticklabels\":false},\"xaxis3\":{\"anchor\":\"y3\",\"domain\":[0.7111111111111111,1.0],\"showgrid\":false,\"showticklabels\":false},\"yaxis3\":{\"anchor\":\"x3\",\"domain\":[0.625,1.0],\"showgrid\":false,\"showticklabels\":false},\"xaxis4\":{\"anchor\":\"y4\",\"domain\":[0.0,0.2888888888888889],\"showgrid\":false,\"showticklabels\":false},\"yaxis4\":{\"anchor\":\"x4\",\"domain\":[0.0,0.375],\"showgrid\":false,\"showticklabels\":false},\"xaxis5\":{\"anchor\":\"y5\",\"domain\":[0.35555555555555557,0.6444444444444445],\"showgrid\":false,\"showticklabels\":false},\"yaxis5\":{\"anchor\":\"x5\",\"domain\":[0.0,0.375],\"showgrid\":false,\"showticklabels\":false},\"xaxis6\":{\"anchor\":\"y6\",\"domain\":[0.7111111111111111,1.0],\"showgrid\":false,\"showticklabels\":false},\"yaxis6\":{\"anchor\":\"x6\",\"domain\":[0.0,0.375],\"showgrid\":false,\"showticklabels\":false},\"annotations\":[{\"font\":{\"size\":16},\"showarrow\":false,\"text\":\"B0 (Hz)\",\"x\":0.14444444444444446,\"xanchor\":\"center\",\"xref\":\"paper\",\"y\":1.0,\"yanchor\":\"bottom\",\"yref\":\"paper\"},{\"font\":{\"size\":16},\"showarrow\":false,\"text\":\"B1 Tx magnitude\",\"x\":0.5,\"xanchor\":\"center\",\"xref\":\"paper\",\"y\":1.0,\"yanchor\":\"bottom\",\"yref\":\"paper\"},{\"font\":{\"size\":16},\"showarrow\":false,\"text\":\"B1 Rx magnitude\",\"x\":0.8555555555555556,\"xanchor\":\"center\",\"xref\":\"paper\",\"y\":1.0,\"yanchor\":\"bottom\",\"yref\":\"paper\"},{\"font\":{\"size\":16},\"showarrow\":false,\"text\":\"B1 Tx phase (rad)\",\"x\":0.5,\"xanchor\":\"center\",\"xref\":\"paper\",\"y\":0.375,\"yanchor\":\"bottom\",\"yref\":\"paper\"},{\"font\":{\"size\":16},\"showarrow\":false,\"text\":\"B1 Rx phase (rad)\",\"x\":0.8555555555555556,\"xanchor\":\"center\",\"xref\":\"paper\",\"y\":0.375,\"yanchor\":\"bottom\",\"yref\":\"paper\"}],\"height\":1000,\"width\":1200},                        {\"responsive\": true}                    ).then(function(){\n",
              "                            \n",
              "var gd = document.getElementById('4dabe0fc-31d5-4039-b345-248ba2a58a5d');\n",
              "var x = new MutationObserver(function (mutations, observer) {{\n",
              "        var display = window.getComputedStyle(gd).display;\n",
              "        if (!display || display === 'none') {{\n",
              "            console.log([gd, 'removed!']);\n",
              "            Plotly.purge(gd);\n",
              "            observer.disconnect();\n",
              "        }}\n",
              "}});\n",
              "\n",
              "// Listen for the removal of the full notebook cells\n",
              "var notebookContainer = gd.closest('#notebook-container');\n",
              "if (notebookContainer) {{\n",
              "    x.observe(notebookContainer, {childList: true});\n",
              "}}\n",
              "\n",
              "// Listen for the clearing of the current output cell\n",
              "var outputEl = gd.closest('.output');\n",
              "if (outputEl) {{\n",
              "    x.observe(outputEl, {childList: true});\n",
              "}}\n",
              "\n",
              "                        })                };                            </script>        </div>\n",
              "</body>\n",
              "</html>"
            ]
          },
          "metadata": {}
        }
      ]
    },
    {
      "cell_type": "markdown",
      "source": [
        "# Run the simulation"
      ],
      "metadata": {
        "id": "oPxiX0xQ8g4G"
      }
    },
    {
      "cell_type": "code",
      "source": [
        "# Run simulation using multiprocessing\n",
        "myseq = seq\n",
        "myphantom = p \n",
        "\n",
        "# Time the code: Tic\n",
        "start_time = time.time()\n",
        "# Store seq info\n",
        "seq_info = blcsim.store_pulseq_commands(myseq)\n",
        "# Get list of locations from phantom\n",
        "loc_ind_list = myphantom.get_list_inds()\n",
        "# Initiate multiprocessing pool\n",
        "pool = mp.Pool(mp.cpu_count())\n",
        "# Parallel simulation\n",
        "sg_type = 'Default'\n",
        "\n",
        "\n",
        "scanner_info = {'B0': dfmap, 'B1tx':txmap, 'B1rx':rxmap}\n",
        "\n",
        "df = 0 \n",
        "results = pool.starmap_async(blcsim.sim_single_spingroup_v2,\n",
        "                              [(loc_ind, df, myphantom, seq_info, scanner_info, sg_type) for loc_ind in loc_ind_list]).get()\n",
        "pool.close()\n",
        "# Add up signal across all SpinGroups\n",
        "my_signal = np.sum(results, axis=0)\n",
        "savemat('simulated_signals.mat', {'signal':my_signal})\n",
        "\n",
        "# Time the code: Toc\n",
        "print(\"Time used: %s seconds\" % (time.time() - start_time))"
      ],
      "metadata": {
        "id": "m6h_EQyq8isS",
        "colab": {
          "base_uri": "https://localhost:8080/"
        },
        "outputId": "7580aa2a-c508-43e1-f05c-47aa5dad894a"
      },
      "execution_count": null,
      "outputs": [
        {
          "output_type": "stream",
          "name": "stdout",
          "text": [
            "Time used: 23.743250846862793 seconds\n"
          ]
        }
      ]
    },
    {
      "cell_type": "markdown",
      "source": [
        "# Reconstruct the images\n",
        "We reconstruct images for the default EPI sequence. For custom sequences, skip this cell and run the next one to export your data as a .mat file. "
      ],
      "metadata": {
        "id": "raBVJbzw8i_7"
      }
    },
    {
      "cell_type": "code",
      "source": [
        "  # Reconstruct EPI signals \n",
        "  #kk[:,0::2] = my_signal[::-1,0::2]\n",
        "  im = np.fft.fftshift(np.fft.ifft2(np.transpose(my_signal)))\n",
        "  fig = px.imshow(np.absolute(im),binary_string=True)\n",
        "  fig.update_xaxes(showticklabels=False)\n",
        "  fig.update_yaxes(showticklabels=False)"
      ],
      "metadata": {
        "colab": {
          "base_uri": "https://localhost:8080/",
          "height": 542
        },
        "id": "S1ALGUHG6J7B",
        "outputId": "c519b7fa-d625-4156-fa3b-280bf10e020d"
      },
      "execution_count": null,
      "outputs": [
        {
          "output_type": "display_data",
          "data": {
            "text/html": [
              "<html>\n",
              "<head><meta charset=\"utf-8\" /></head>\n",
              "<body>\n",
              "    <div>            <script src=\"https://cdnjs.cloudflare.com/ajax/libs/mathjax/2.7.5/MathJax.js?config=TeX-AMS-MML_SVG\"></script><script type=\"text/javascript\">if (window.MathJax) {MathJax.Hub.Config({SVG: {font: \"STIX-Web\"}});}</script>                <script type=\"text/javascript\">window.PlotlyConfig = {MathJaxConfig: 'local'};</script>\n",
              "        <script src=\"https://cdn.plot.ly/plotly-2.11.1.min.js\"></script>                <div id=\"f0129f0f-777f-4aaa-a8e7-e16ea3790719\" class=\"plotly-graph-div\" style=\"height:525px; width:100%;\"></div>            <script type=\"text/javascript\">                                    window.PLOTLYENV=window.PLOTLYENV || {};                                    if (document.getElementById(\"f0129f0f-777f-4aaa-a8e7-e16ea3790719\")) {                    Plotly.newPlot(                        \"f0129f0f-777f-4aaa-a8e7-e16ea3790719\",                        [{\"name\":\"0\",\"source\":\"data:image/png;base64,iVBORw0KGgoAAAANSUhEUgAAABAAAAAQCAAAAAA6mKC9AAABG0lEQVR4XgEQAe/+ARj9AgEH+hcV4PYT5xbVGPQBFz7U8AAXCPsG9vz4Fe8E/AIi+v4kaAveH/Us9wMoL/Y2AiHIZ8z+6RW/KtBd8dfLDNME9T3jGLJvFXj0LwPqThQAvAFDRZcd8Rg09rlK4/7LFJ6NBPyzDhXu6KvmJg27gC0OTR4COe+74fogRyQd0Tr4sRY9CAL9IkUxCtDBOcc7Qv7O2FDOAqgCdTc+ElMkCtL39xExzx4BZeIXyxzi/w4Y+sdFFNnsFgK5GdxkBwN17PEsCfa++WISAmW7f8zuTrFCLZphPAdLeBkBNhgkrz+0KMpo2UWLOsxE4AFE3fEy5CTZK//01RETDrpCARUCIN5AzAP4CfkR7jvJ/gG+m3p3t0DEmwAAAABJRU5ErkJggg==\",\"type\":\"image\",\"xaxis\":\"x\",\"yaxis\":\"y\",\"hovertemplate\":\"x: %{x}<br>y: %{y}<extra></extra>\"}],                        {\"template\":{\"data\":{\"histogram2dcontour\":[{\"type\":\"histogram2dcontour\",\"colorbar\":{\"outlinewidth\":0,\"ticks\":\"\"},\"colorscale\":[[0.0,\"#0d0887\"],[0.1111111111111111,\"#46039f\"],[0.2222222222222222,\"#7201a8\"],[0.3333333333333333,\"#9c179e\"],[0.4444444444444444,\"#bd3786\"],[0.5555555555555556,\"#d8576b\"],[0.6666666666666666,\"#ed7953\"],[0.7777777777777778,\"#fb9f3a\"],[0.8888888888888888,\"#fdca26\"],[1.0,\"#f0f921\"]]}],\"choropleth\":[{\"type\":\"choropleth\",\"colorbar\":{\"outlinewidth\":0,\"ticks\":\"\"}}],\"histogram2d\":[{\"type\":\"histogram2d\",\"colorbar\":{\"outlinewidth\":0,\"ticks\":\"\"},\"colorscale\":[[0.0,\"#0d0887\"],[0.1111111111111111,\"#46039f\"],[0.2222222222222222,\"#7201a8\"],[0.3333333333333333,\"#9c179e\"],[0.4444444444444444,\"#bd3786\"],[0.5555555555555556,\"#d8576b\"],[0.6666666666666666,\"#ed7953\"],[0.7777777777777778,\"#fb9f3a\"],[0.8888888888888888,\"#fdca26\"],[1.0,\"#f0f921\"]]}],\"heatmap\":[{\"type\":\"heatmap\",\"colorbar\":{\"outlinewidth\":0,\"ticks\":\"\"},\"colorscale\":[[0.0,\"#0d0887\"],[0.1111111111111111,\"#46039f\"],[0.2222222222222222,\"#7201a8\"],[0.3333333333333333,\"#9c179e\"],[0.4444444444444444,\"#bd3786\"],[0.5555555555555556,\"#d8576b\"],[0.6666666666666666,\"#ed7953\"],[0.7777777777777778,\"#fb9f3a\"],[0.8888888888888888,\"#fdca26\"],[1.0,\"#f0f921\"]]}],\"heatmapgl\":[{\"type\":\"heatmapgl\",\"colorbar\":{\"outlinewidth\":0,\"ticks\":\"\"},\"colorscale\":[[0.0,\"#0d0887\"],[0.1111111111111111,\"#46039f\"],[0.2222222222222222,\"#7201a8\"],[0.3333333333333333,\"#9c179e\"],[0.4444444444444444,\"#bd3786\"],[0.5555555555555556,\"#d8576b\"],[0.6666666666666666,\"#ed7953\"],[0.7777777777777778,\"#fb9f3a\"],[0.8888888888888888,\"#fdca26\"],[1.0,\"#f0f921\"]]}],\"contourcarpet\":[{\"type\":\"contourcarpet\",\"colorbar\":{\"outlinewidth\":0,\"ticks\":\"\"}}],\"contour\":[{\"type\":\"contour\",\"colorbar\":{\"outlinewidth\":0,\"ticks\":\"\"},\"colorscale\":[[0.0,\"#0d0887\"],[0.1111111111111111,\"#46039f\"],[0.2222222222222222,\"#7201a8\"],[0.3333333333333333,\"#9c179e\"],[0.4444444444444444,\"#bd3786\"],[0.5555555555555556,\"#d8576b\"],[0.6666666666666666,\"#ed7953\"],[0.7777777777777778,\"#fb9f3a\"],[0.8888888888888888,\"#fdca26\"],[1.0,\"#f0f921\"]]}],\"surface\":[{\"type\":\"surface\",\"colorbar\":{\"outlinewidth\":0,\"ticks\":\"\"},\"colorscale\":[[0.0,\"#0d0887\"],[0.1111111111111111,\"#46039f\"],[0.2222222222222222,\"#7201a8\"],[0.3333333333333333,\"#9c179e\"],[0.4444444444444444,\"#bd3786\"],[0.5555555555555556,\"#d8576b\"],[0.6666666666666666,\"#ed7953\"],[0.7777777777777778,\"#fb9f3a\"],[0.8888888888888888,\"#fdca26\"],[1.0,\"#f0f921\"]]}],\"mesh3d\":[{\"type\":\"mesh3d\",\"colorbar\":{\"outlinewidth\":0,\"ticks\":\"\"}}],\"scatter\":[{\"fillpattern\":{\"fillmode\":\"overlay\",\"size\":10,\"solidity\":0.2},\"type\":\"scatter\"}],\"parcoords\":[{\"type\":\"parcoords\",\"line\":{\"colorbar\":{\"outlinewidth\":0,\"ticks\":\"\"}}}],\"scatterpolargl\":[{\"type\":\"scatterpolargl\",\"marker\":{\"colorbar\":{\"outlinewidth\":0,\"ticks\":\"\"}}}],\"bar\":[{\"error_x\":{\"color\":\"#2a3f5f\"},\"error_y\":{\"color\":\"#2a3f5f\"},\"marker\":{\"line\":{\"color\":\"#E5ECF6\",\"width\":0.5},\"pattern\":{\"fillmode\":\"overlay\",\"size\":10,\"solidity\":0.2}},\"type\":\"bar\"}],\"scattergeo\":[{\"type\":\"scattergeo\",\"marker\":{\"colorbar\":{\"outlinewidth\":0,\"ticks\":\"\"}}}],\"scatterpolar\":[{\"type\":\"scatterpolar\",\"marker\":{\"colorbar\":{\"outlinewidth\":0,\"ticks\":\"\"}}}],\"histogram\":[{\"marker\":{\"pattern\":{\"fillmode\":\"overlay\",\"size\":10,\"solidity\":0.2}},\"type\":\"histogram\"}],\"scattergl\":[{\"type\":\"scattergl\",\"marker\":{\"colorbar\":{\"outlinewidth\":0,\"ticks\":\"\"}}}],\"scatter3d\":[{\"type\":\"scatter3d\",\"line\":{\"colorbar\":{\"outlinewidth\":0,\"ticks\":\"\"}},\"marker\":{\"colorbar\":{\"outlinewidth\":0,\"ticks\":\"\"}}}],\"scattermapbox\":[{\"type\":\"scattermapbox\",\"marker\":{\"colorbar\":{\"outlinewidth\":0,\"ticks\":\"\"}}}],\"scatterternary\":[{\"type\":\"scatterternary\",\"marker\":{\"colorbar\":{\"outlinewidth\":0,\"ticks\":\"\"}}}],\"scattercarpet\":[{\"type\":\"scattercarpet\",\"marker\":{\"colorbar\":{\"outlinewidth\":0,\"ticks\":\"\"}}}],\"carpet\":[{\"aaxis\":{\"endlinecolor\":\"#2a3f5f\",\"gridcolor\":\"white\",\"linecolor\":\"white\",\"minorgridcolor\":\"white\",\"startlinecolor\":\"#2a3f5f\"},\"baxis\":{\"endlinecolor\":\"#2a3f5f\",\"gridcolor\":\"white\",\"linecolor\":\"white\",\"minorgridcolor\":\"white\",\"startlinecolor\":\"#2a3f5f\"},\"type\":\"carpet\"}],\"table\":[{\"cells\":{\"fill\":{\"color\":\"#EBF0F8\"},\"line\":{\"color\":\"white\"}},\"header\":{\"fill\":{\"color\":\"#C8D4E3\"},\"line\":{\"color\":\"white\"}},\"type\":\"table\"}],\"barpolar\":[{\"marker\":{\"line\":{\"color\":\"#E5ECF6\",\"width\":0.5},\"pattern\":{\"fillmode\":\"overlay\",\"size\":10,\"solidity\":0.2}},\"type\":\"barpolar\"}],\"pie\":[{\"automargin\":true,\"type\":\"pie\"}]},\"layout\":{\"autotypenumbers\":\"strict\",\"colorway\":[\"#636efa\",\"#EF553B\",\"#00cc96\",\"#ab63fa\",\"#FFA15A\",\"#19d3f3\",\"#FF6692\",\"#B6E880\",\"#FF97FF\",\"#FECB52\"],\"font\":{\"color\":\"#2a3f5f\"},\"hovermode\":\"closest\",\"hoverlabel\":{\"align\":\"left\"},\"paper_bgcolor\":\"white\",\"plot_bgcolor\":\"#E5ECF6\",\"polar\":{\"bgcolor\":\"#E5ECF6\",\"angularaxis\":{\"gridcolor\":\"white\",\"linecolor\":\"white\",\"ticks\":\"\"},\"radialaxis\":{\"gridcolor\":\"white\",\"linecolor\":\"white\",\"ticks\":\"\"}},\"ternary\":{\"bgcolor\":\"#E5ECF6\",\"aaxis\":{\"gridcolor\":\"white\",\"linecolor\":\"white\",\"ticks\":\"\"},\"baxis\":{\"gridcolor\":\"white\",\"linecolor\":\"white\",\"ticks\":\"\"},\"caxis\":{\"gridcolor\":\"white\",\"linecolor\":\"white\",\"ticks\":\"\"}},\"coloraxis\":{\"colorbar\":{\"outlinewidth\":0,\"ticks\":\"\"}},\"colorscale\":{\"sequential\":[[0.0,\"#0d0887\"],[0.1111111111111111,\"#46039f\"],[0.2222222222222222,\"#7201a8\"],[0.3333333333333333,\"#9c179e\"],[0.4444444444444444,\"#bd3786\"],[0.5555555555555556,\"#d8576b\"],[0.6666666666666666,\"#ed7953\"],[0.7777777777777778,\"#fb9f3a\"],[0.8888888888888888,\"#fdca26\"],[1.0,\"#f0f921\"]],\"sequentialminus\":[[0.0,\"#0d0887\"],[0.1111111111111111,\"#46039f\"],[0.2222222222222222,\"#7201a8\"],[0.3333333333333333,\"#9c179e\"],[0.4444444444444444,\"#bd3786\"],[0.5555555555555556,\"#d8576b\"],[0.6666666666666666,\"#ed7953\"],[0.7777777777777778,\"#fb9f3a\"],[0.8888888888888888,\"#fdca26\"],[1.0,\"#f0f921\"]],\"diverging\":[[0,\"#8e0152\"],[0.1,\"#c51b7d\"],[0.2,\"#de77ae\"],[0.3,\"#f1b6da\"],[0.4,\"#fde0ef\"],[0.5,\"#f7f7f7\"],[0.6,\"#e6f5d0\"],[0.7,\"#b8e186\"],[0.8,\"#7fbc41\"],[0.9,\"#4d9221\"],[1,\"#276419\"]]},\"xaxis\":{\"gridcolor\":\"white\",\"linecolor\":\"white\",\"ticks\":\"\",\"title\":{\"standoff\":15},\"zerolinecolor\":\"white\",\"automargin\":true,\"zerolinewidth\":2},\"yaxis\":{\"gridcolor\":\"white\",\"linecolor\":\"white\",\"ticks\":\"\",\"title\":{\"standoff\":15},\"zerolinecolor\":\"white\",\"automargin\":true,\"zerolinewidth\":2},\"scene\":{\"xaxis\":{\"backgroundcolor\":\"#E5ECF6\",\"gridcolor\":\"white\",\"linecolor\":\"white\",\"showbackground\":true,\"ticks\":\"\",\"zerolinecolor\":\"white\",\"gridwidth\":2},\"yaxis\":{\"backgroundcolor\":\"#E5ECF6\",\"gridcolor\":\"white\",\"linecolor\":\"white\",\"showbackground\":true,\"ticks\":\"\",\"zerolinecolor\":\"white\",\"gridwidth\":2},\"zaxis\":{\"backgroundcolor\":\"#E5ECF6\",\"gridcolor\":\"white\",\"linecolor\":\"white\",\"showbackground\":true,\"ticks\":\"\",\"zerolinecolor\":\"white\",\"gridwidth\":2}},\"shapedefaults\":{\"line\":{\"color\":\"#2a3f5f\"}},\"annotationdefaults\":{\"arrowcolor\":\"#2a3f5f\",\"arrowhead\":0,\"arrowwidth\":1},\"geo\":{\"bgcolor\":\"white\",\"landcolor\":\"#E5ECF6\",\"subunitcolor\":\"white\",\"showland\":true,\"showlakes\":true,\"lakecolor\":\"white\"},\"title\":{\"x\":0.05},\"mapbox\":{\"style\":\"light\"}}},\"xaxis\":{\"anchor\":\"y\",\"domain\":[0.0,1.0],\"showticklabels\":false},\"yaxis\":{\"anchor\":\"x\",\"domain\":[0.0,1.0],\"showticklabels\":false},\"margin\":{\"t\":60}},                        {\"responsive\": true}                    ).then(function(){\n",
              "                            \n",
              "var gd = document.getElementById('f0129f0f-777f-4aaa-a8e7-e16ea3790719');\n",
              "var x = new MutationObserver(function (mutations, observer) {{\n",
              "        var display = window.getComputedStyle(gd).display;\n",
              "        if (!display || display === 'none') {{\n",
              "            console.log([gd, 'removed!']);\n",
              "            Plotly.purge(gd);\n",
              "            observer.disconnect();\n",
              "        }}\n",
              "}});\n",
              "\n",
              "// Listen for the removal of the full notebook cells\n",
              "var notebookContainer = gd.closest('#notebook-container');\n",
              "if (notebookContainer) {{\n",
              "    x.observe(notebookContainer, {childList: true});\n",
              "}}\n",
              "\n",
              "// Listen for the clearing of the current output cell\n",
              "var outputEl = gd.closest('.output');\n",
              "if (outputEl) {{\n",
              "    x.observe(outputEl, {childList: true});\n",
              "}}\n",
              "\n",
              "                        })                };                            </script>        </div>\n",
              "</body>\n",
              "</html>"
            ]
          },
          "metadata": {}
        }
      ]
    },
    {
      "cell_type": "markdown",
      "source": [
        "# Save and download simulated raw data\n"
      ],
      "metadata": {
        "id": "jdgBxRRh1FDp"
      }
    },
    {
      "cell_type": "code",
      "source": [
        "savemat(\"simulated_data_for_download.mat\", {\"data\":my_signal})\n",
        "files.download('simulated_data_for_download.mat')"
      ],
      "metadata": {
        "colab": {
          "base_uri": "https://localhost:8080/",
          "height": 17
        },
        "id": "YxVlwhwS1-Uf",
        "outputId": "2c4cfc59-35ca-4fc8-b820-c92117d1a639"
      },
      "execution_count": null,
      "outputs": [
        {
          "output_type": "display_data",
          "data": {
            "text/plain": [
              "<IPython.core.display.Javascript object>"
            ],
            "application/javascript": [
              "\n",
              "    async function download(id, filename, size) {\n",
              "      if (!google.colab.kernel.accessAllowed) {\n",
              "        return;\n",
              "      }\n",
              "      const div = document.createElement('div');\n",
              "      const label = document.createElement('label');\n",
              "      label.textContent = `Downloading \"${filename}\": `;\n",
              "      div.appendChild(label);\n",
              "      const progress = document.createElement('progress');\n",
              "      progress.max = size;\n",
              "      div.appendChild(progress);\n",
              "      document.body.appendChild(div);\n",
              "\n",
              "      const buffers = [];\n",
              "      let downloaded = 0;\n",
              "\n",
              "      const channel = await google.colab.kernel.comms.open(id);\n",
              "      // Send a message to notify the kernel that we're ready.\n",
              "      channel.send({})\n",
              "\n",
              "      for await (const message of channel.messages) {\n",
              "        // Send a message to notify the kernel that we're ready.\n",
              "        channel.send({})\n",
              "        if (message.buffers) {\n",
              "          for (const buffer of message.buffers) {\n",
              "            buffers.push(buffer);\n",
              "            downloaded += buffer.byteLength;\n",
              "            progress.value = downloaded;\n",
              "          }\n",
              "        }\n",
              "      }\n",
              "      const blob = new Blob(buffers, {type: 'application/binary'});\n",
              "      const a = document.createElement('a');\n",
              "      a.href = window.URL.createObjectURL(blob);\n",
              "      a.download = filename;\n",
              "      div.appendChild(a);\n",
              "      a.click();\n",
              "      div.remove();\n",
              "    }\n",
              "  "
            ]
          },
          "metadata": {}
        },
        {
          "output_type": "display_data",
          "data": {
            "text/plain": [
              "<IPython.core.display.Javascript object>"
            ],
            "application/javascript": [
              "download(\"download_d25e77bd-5c97-44c3-9384-27c36fc146c4\", \"simulated_data_for_download.mat\", 4288)"
            ]
          },
          "metadata": {}
        }
      ]
    }
  ]
}